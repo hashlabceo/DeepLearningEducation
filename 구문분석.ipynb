{
 "cells": [
  {
   "cell_type": "code",
   "execution_count": 7,
   "metadata": {},
   "outputs": [],
   "source": [
    "import konlpy\n",
    "import nltk"
   ]
  },
  {
   "cell_type": "code",
   "execution_count": 8,
   "metadata": {},
   "outputs": [],
   "source": [
    "# POS tag a sentence\n",
    "sentence = u'만 6세 이하의 초등학교 취학 전 자녀를 양육하기 위해서는'\n",
    "words = konlpy.tag.Okt().pos(sentence)"
   ]
  },
  {
   "cell_type": "code",
   "execution_count": 9,
   "metadata": {},
   "outputs": [
    {
     "name": "stdout",
     "output_type": "stream",
     "text": [
      "# Print whole tree\n",
      "(S\n",
      "  (NP 만/Noun 6/Number 세/Noun 이하/Noun)\n",
      "  의/Josa\n",
      "  (NP 초등학교/Noun 취학/Noun 전/Noun 자녀/Noun)\n",
      "  를/Josa\n",
      "  (NP 양육/Noun)\n",
      "  (VP 하기/Verb)\n",
      "  (NP 위/Noun)\n",
      "  (VP 해서는/Verb))\n",
      "None\n"
     ]
    }
   ],
   "source": [
    "# Define a chunk grammar, or chunking rules, then chunk\n",
    "grammar = \"\"\"\n",
    "NP: {<N.*>*<Suffix>?}   # Noun phrase\n",
    "VP: {<V.*>*}            # Verb phrase\n",
    "AP: {<A.*>*}            # Adjective phrase\n",
    "\"\"\"\n",
    "parser = nltk.RegexpParser(grammar)\n",
    "chunks = parser.parse(words)\n",
    "print(\"# Print whole tree\")\n",
    "print(chunks.pprint())"
   ]
  },
  {
   "cell_type": "code",
   "execution_count": 10,
   "metadata": {},
   "outputs": [
    {
     "name": "stdout",
     "output_type": "stream",
     "text": [
      "\n",
      "# Print noun phrases only\n",
      "만 6 세 이하\n",
      "(NP 만/Noun 6/Number 세/Noun 이하/Noun)\n",
      "None\n",
      "초등학교 취학 전 자녀\n",
      "(NP 초등학교/Noun 취학/Noun 전/Noun 자녀/Noun)\n",
      "None\n",
      "양육\n",
      "(NP 양육/Noun)\n",
      "None\n",
      "위\n",
      "(NP 위/Noun)\n",
      "None\n"
     ]
    }
   ],
   "source": [
    "print(\"\\n# Print noun phrases only\")\n",
    "for subtree in chunks.subtrees():\n",
    "    if subtree.label()=='NP':\n",
    "        print(' '.join((e[0] for e in list(subtree))))\n",
    "        print(subtree.pprint())"
   ]
  },
  {
   "cell_type": "code",
   "execution_count": 11,
   "metadata": {},
   "outputs": [],
   "source": [
    "# Display the chunk tree\n",
    "chunks.draw()"
   ]
  },
  {
   "cell_type": "code",
   "execution_count": null,
   "metadata": {},
   "outputs": [],
   "source": []
  }
 ],
 "metadata": {
  "kernelspec": {
   "display_name": "Python 3",
   "language": "python",
   "name": "python3"
  },
  "language_info": {
   "codemirror_mode": {
    "name": "ipython",
    "version": 3
   },
   "file_extension": ".py",
   "mimetype": "text/x-python",
   "name": "python",
   "nbconvert_exporter": "python",
   "pygments_lexer": "ipython3",
   "version": "3.7.3"
  }
 },
 "nbformat": 4,
 "nbformat_minor": 2
}
