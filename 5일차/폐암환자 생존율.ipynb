{
 "cells": [
  {
   "cell_type": "markdown",
   "metadata": {},
   "source": [
    "# 폐암환자 생존율"
   ]
  },
  {
   "cell_type": "code",
   "execution_count": 1,
   "metadata": {},
   "outputs": [
    {
     "data": {
      "text/plain": [
       "'2.0.0'"
      ]
     },
     "execution_count": 1,
     "metadata": {},
     "output_type": "execute_result"
    }
   ],
   "source": [
    "import numpy as np\n",
    "import tensorflow as tf\n",
    "tf.__version__"
   ]
  },
  {
   "cell_type": "code",
   "execution_count": 2,
   "metadata": {},
   "outputs": [],
   "source": [
    "from tensorflow.keras.models import Sequential\n",
    "from tensorflow.keras.layers import Dense"
   ]
  },
  {
   "cell_type": "code",
   "execution_count": 3,
   "metadata": {},
   "outputs": [],
   "source": [
    "seed = 0\n",
    "np.random.seed(seed)\n",
    "tf.random.set_seed(seed)"
   ]
  },
  {
   "cell_type": "code",
   "execution_count": 4,
   "metadata": {},
   "outputs": [
    {
     "data": {
      "text/plain": [
       "array([[293.  ,   1.  ,   3.8 , ...,   0.  ,  62.  ,   0.  ],\n",
       "       [  1.  ,   2.  ,   2.88, ...,   0.  ,  60.  ,   0.  ],\n",
       "       [  8.  ,   2.  ,   3.19, ...,   0.  ,  66.  ,   1.  ],\n",
       "       ...,\n",
       "       [406.  ,   6.  ,   5.36, ...,   0.  ,  62.  ,   0.  ],\n",
       "       [ 25.  ,   8.  ,   4.32, ...,   0.  ,  58.  ,   1.  ],\n",
       "       [447.  ,   8.  ,   5.2 , ...,   0.  ,  49.  ,   0.  ]])"
      ]
     },
     "execution_count": 4,
     "metadata": {},
     "output_type": "execute_result"
    }
   ],
   "source": [
    "Data_set = np.loadtxt('dataset/ThoraricSurgery.csv', delimiter=',')\n",
    "Data_set"
   ]
  },
  {
   "cell_type": "code",
   "execution_count": 6,
   "metadata": {},
   "outputs": [
    {
     "data": {
      "text/plain": [
       "((470, 17), (470,))"
      ]
     },
     "execution_count": 6,
     "metadata": {},
     "output_type": "execute_result"
    }
   ],
   "source": [
    "X = Data_set[:, 0:17]\n",
    "Y = Data_set[:, 17]\n",
    "X.shape, Y.shape"
   ]
  },
  {
   "cell_type": "code",
   "execution_count": 7,
   "metadata": {},
   "outputs": [
    {
     "name": "stdout",
     "output_type": "stream",
     "text": [
      "Model: \"sequential\"\n",
      "_________________________________________________________________\n",
      "Layer (type)                 Output Shape              Param #   \n",
      "=================================================================\n",
      "dense (Dense)                (None, 30)                540       \n",
      "_________________________________________________________________\n",
      "dense_1 (Dense)              (None, 1)                 31        \n",
      "=================================================================\n",
      "Total params: 571\n",
      "Trainable params: 571\n",
      "Non-trainable params: 0\n",
      "_________________________________________________________________\n"
     ]
    }
   ],
   "source": [
    "# 딥러닝 모델 설정\n",
    "model = Sequential([\n",
    "    Dense(30, input_shape=(17,), activation='relu'),\n",
    "    Dense(1, activation='sigmoid')\n",
    "])\n",
    "\n",
    "\n",
    "model.summary()"
   ]
  },
  {
   "cell_type": "code",
   "execution_count": 24,
   "metadata": {},
   "outputs": [
    {
     "name": "stdout",
     "output_type": "stream",
     "text": [
      "Model: \"sequential_3\"\n",
      "_________________________________________________________________\n",
      "Layer (type)                 Output Shape              Param #   \n",
      "=================================================================\n",
      "dense_7 (Dense)              (None, 30)                540       \n",
      "_________________________________________________________________\n",
      "dense_8 (Dense)              (None, 8)                 248       \n",
      "_________________________________________________________________\n",
      "dense_9 (Dense)              (None, 1)                 9         \n",
      "=================================================================\n",
      "Total params: 797\n",
      "Trainable params: 797\n",
      "Non-trainable params: 0\n",
      "_________________________________________________________________\n"
     ]
    }
   ],
   "source": [
    "# 딥러닝 모델 설정\n",
    "# add 함수 사용\n",
    "model = Sequential()\n",
    "model.add(Dense(30, input_shape=(17,), activation='relu'))\n",
    "model.add(Dense(8, activation='relu'))\n",
    "model.add(Dense(1, activation='sigmoid'))\n",
    "model.summary()"
   ]
  },
  {
   "cell_type": "code",
   "execution_count": 15,
   "metadata": {},
   "outputs": [],
   "source": [
    "# 딥러닝 환경 설정 (오차함수, 최적화함수)\n",
    "model.compile(loss='binary_crossentropy', optimizer='adam', metrics=['accuracy'])"
   ]
  },
  {
   "cell_type": "code",
   "execution_count": 19,
   "metadata": {},
   "outputs": [
    {
     "name": "stdout",
     "output_type": "stream",
     "text": [
      "Train on 470 samples\n",
      "Epoch 1/20\n",
      "470/470 - 0s - loss: 0.4111 - accuracy: 0.8489\n",
      "Epoch 2/20\n",
      "470/470 - 0s - loss: 0.4546 - accuracy: 0.8319\n",
      "Epoch 3/20\n",
      "470/470 - 0s - loss: 0.4033 - accuracy: 0.8489\n",
      "Epoch 4/20\n",
      "470/470 - 0s - loss: 0.4188 - accuracy: 0.8511\n",
      "Epoch 5/20\n",
      "470/470 - 0s - loss: 0.3915 - accuracy: 0.8553\n",
      "Epoch 6/20\n",
      "470/470 - 0s - loss: 0.4077 - accuracy: 0.8553\n",
      "Epoch 7/20\n",
      "470/470 - 0s - loss: 0.4061 - accuracy: 0.8489\n",
      "Epoch 8/20\n",
      "470/470 - 0s - loss: 0.4242 - accuracy: 0.8511\n",
      "Epoch 9/20\n",
      "470/470 - 0s - loss: 0.4062 - accuracy: 0.8638\n",
      "Epoch 10/20\n",
      "470/470 - 0s - loss: 0.4180 - accuracy: 0.8532\n",
      "Epoch 11/20\n",
      "470/470 - 0s - loss: 0.4231 - accuracy: 0.8681\n",
      "Epoch 12/20\n",
      "470/470 - 0s - loss: 0.3849 - accuracy: 0.8617\n",
      "Epoch 13/20\n",
      "470/470 - 0s - loss: 0.4005 - accuracy: 0.8553\n",
      "Epoch 14/20\n",
      "470/470 - 0s - loss: 0.3912 - accuracy: 0.8511\n",
      "Epoch 15/20\n",
      "470/470 - 0s - loss: 0.4254 - accuracy: 0.8574\n",
      "Epoch 16/20\n",
      "470/470 - 0s - loss: 0.3926 - accuracy: 0.8553\n",
      "Epoch 17/20\n",
      "470/470 - 0s - loss: 0.3900 - accuracy: 0.8511\n",
      "Epoch 18/20\n",
      "470/470 - 0s - loss: 0.4178 - accuracy: 0.8553\n",
      "Epoch 19/20\n",
      "470/470 - 0s - loss: 0.3860 - accuracy: 0.8553\n",
      "Epoch 20/20\n",
      "470/470 - 0s - loss: 0.3863 - accuracy: 0.8638\n"
     ]
    },
    {
     "data": {
      "text/plain": [
       "<tensorflow.python.keras.callbacks.History at 0x1f07f600630>"
      ]
     },
     "execution_count": 19,
     "metadata": {},
     "output_type": "execute_result"
    }
   ],
   "source": [
    "# 딥러닝 실행\n",
    "model.fit(X, Y, epochs=20, batch_size=10, verbose=2)"
   ]
  },
  {
   "cell_type": "code",
   "execution_count": 23,
   "metadata": {},
   "outputs": [
    {
     "name": "stdout",
     "output_type": "stream",
     "text": [
      "470/1 - 0s - loss: 0.8461 - accuracy: 0.8532\n",
      "\n",
      " Accuracy: 0.8532\n"
     ]
    }
   ],
   "source": [
    "# 결과 출력\n",
    "print(\"\\n Accuracy: %.4f\" % (model.evaluate(X, Y, verbose=2))[1])"
   ]
  },
  {
   "cell_type": "markdown",
   "metadata": {},
   "source": [
    "## model 2"
   ]
  },
  {
   "cell_type": "code",
   "execution_count": 34,
   "metadata": {},
   "outputs": [
    {
     "name": "stdout",
     "output_type": "stream",
     "text": [
      "Model: \"sequential_8\"\n",
      "_________________________________________________________________\n",
      "Layer (type)                 Output Shape              Param #   \n",
      "=================================================================\n",
      "dense_22 (Dense)             (None, 40)                720       \n",
      "_________________________________________________________________\n",
      "dense_23 (Dense)             (None, 30)                1230      \n",
      "_________________________________________________________________\n",
      "dense_24 (Dense)             (None, 1)                 31        \n",
      "=================================================================\n",
      "Total params: 1,981\n",
      "Trainable params: 1,981\n",
      "Non-trainable params: 0\n",
      "_________________________________________________________________\n"
     ]
    }
   ],
   "source": [
    "model2 = Sequential()\n",
    "model2.add(Dense(40, input_shape=(17,), activation='relu'))\n",
    "model2.add(Dense(30, activation='relu'))\n",
    "model2.add(Dense(1, activation='sigmoid'))\n",
    "model2.summary()"
   ]
  },
  {
   "cell_type": "code",
   "execution_count": 31,
   "metadata": {},
   "outputs": [
    {
     "name": "stdout",
     "output_type": "stream",
     "text": [
      "Train on 470 samples\n",
      "Epoch 1/20\n",
      "470/470 - 0s - loss: 2.2320 - accuracy: 0.7043\n",
      "Epoch 2/20\n",
      "470/470 - 0s - loss: 0.6296 - accuracy: 0.7830\n",
      "Epoch 3/20\n",
      "470/470 - 0s - loss: 0.5375 - accuracy: 0.8511\n",
      "Epoch 4/20\n",
      "470/470 - 0s - loss: 0.4687 - accuracy: 0.8383\n",
      "Epoch 5/20\n",
      "470/470 - 0s - loss: 0.4923 - accuracy: 0.8404\n",
      "Epoch 6/20\n",
      "470/470 - 0s - loss: 0.4390 - accuracy: 0.8511\n",
      "Epoch 7/20\n",
      "470/470 - 0s - loss: 0.4374 - accuracy: 0.8511\n",
      "Epoch 8/20\n",
      "470/470 - 0s - loss: 0.4464 - accuracy: 0.8511\n",
      "Epoch 9/20\n",
      "470/470 - 0s - loss: 0.4538 - accuracy: 0.8511\n",
      "Epoch 10/20\n",
      "470/470 - 0s - loss: 0.4693 - accuracy: 0.8489\n",
      "Epoch 11/20\n",
      "470/470 - 0s - loss: 0.4366 - accuracy: 0.8447\n",
      "Epoch 12/20\n",
      "470/470 - 0s - loss: 0.4681 - accuracy: 0.8340\n",
      "Epoch 13/20\n",
      "470/470 - 0s - loss: 0.4536 - accuracy: 0.8447\n",
      "Epoch 14/20\n",
      "470/470 - 0s - loss: 0.4217 - accuracy: 0.8511\n",
      "Epoch 15/20\n",
      "470/470 - 0s - loss: 0.4356 - accuracy: 0.8489\n",
      "Epoch 16/20\n",
      "470/470 - 0s - loss: 0.4539 - accuracy: 0.8340\n",
      "Epoch 17/20\n",
      "470/470 - 0s - loss: 0.4422 - accuracy: 0.8511\n",
      "Epoch 18/20\n",
      "470/470 - 0s - loss: 0.4484 - accuracy: 0.8447\n",
      "Epoch 19/20\n",
      "470/470 - 0s - loss: 0.4144 - accuracy: 0.8468\n",
      "Epoch 20/20\n",
      "470/470 - 0s - loss: 0.4165 - accuracy: 0.8532\n"
     ]
    },
    {
     "data": {
      "text/plain": [
       "<tensorflow.python.keras.callbacks.History at 0x1f0012d8630>"
      ]
     },
     "execution_count": 31,
     "metadata": {},
     "output_type": "execute_result"
    }
   ],
   "source": [
    "model2.compile(loss='binary_crossentropy', optimizer='adam', metrics=['accuracy'])\n",
    "model2.fit(X, Y, epochs=20, batch_size=30, verbose=2)"
   ]
  },
  {
   "cell_type": "code",
   "execution_count": 32,
   "metadata": {},
   "outputs": [
    {
     "name": "stdout",
     "output_type": "stream",
     "text": [
      "470/1 - 0s - loss: 0.6059 - accuracy: 0.8511\n",
      "\n",
      " Accuracy: 0.8511\n"
     ]
    }
   ],
   "source": [
    "print(\"\\n Accuracy: %.4f\" % (model2.evaluate(X, Y, verbose=2))[1])"
   ]
  },
  {
   "cell_type": "code",
   "execution_count": null,
   "metadata": {},
   "outputs": [],
   "source": []
  }
 ],
 "metadata": {
  "kernelspec": {
   "display_name": "Python 3",
   "language": "python",
   "name": "python3"
  },
  "language_info": {
   "codemirror_mode": {
    "name": "ipython",
    "version": 3
   },
   "file_extension": ".py",
   "mimetype": "text/x-python",
   "name": "python",
   "nbconvert_exporter": "python",
   "pygments_lexer": "ipython3",
   "version": "3.7.3"
  }
 },
 "nbformat": 4,
 "nbformat_minor": 2
}
