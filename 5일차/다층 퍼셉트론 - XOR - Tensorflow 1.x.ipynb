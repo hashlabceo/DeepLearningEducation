{
 "cells": [
  {
   "cell_type": "markdown",
   "metadata": {},
   "source": [
    "# 다층 퍼셉트론 - XOR - Tensorflow 1.x"
   ]
  },
  {
   "cell_type": "code",
   "execution_count": 1,
   "metadata": {},
   "outputs": [
    {
     "name": "stdout",
     "output_type": "stream",
     "text": [
      "WARNING:tensorflow:From C:\\Users\\EZEN\\Anaconda3\\lib\\site-packages\\tensorflow_core\\python\\compat\\v2_compat.py:65: disable_resource_variables (from tensorflow.python.ops.variable_scope) is deprecated and will be removed in a future version.\n",
      "Instructions for updating:\n",
      "non-resource variables are not supported in the long term\n"
     ]
    }
   ],
   "source": [
    "import numpy as np\n",
    "import tensorflow.compat.v1 as tf\n",
    "tf.disable_v2_behavior()"
   ]
  },
  {
   "cell_type": "code",
   "execution_count": 2,
   "metadata": {},
   "outputs": [],
   "source": [
    "# 실행할 때마다 같은 결과를 출력하기 위한 seed 값 설정\n",
    "seed = 0\n",
    "np.random.seed(seed)\n",
    "tf.set_random_seed(seed)"
   ]
  },
  {
   "cell_type": "code",
   "execution_count": 4,
   "metadata": {},
   "outputs": [
    {
     "data": {
      "text/plain": [
       "((4, 2), (4, 1))"
      ]
     },
     "execution_count": 4,
     "metadata": {},
     "output_type": "execute_result"
    }
   ],
   "source": [
    "# x, y의 데이터 값\n",
    "x_data = np.array([[0, 0],[0, 1],[1, 0],[1, 1]]) \n",
    "y_data = np.array([0, 1, 1, 0]).reshape(4, 1)\n",
    "x_data.shape, y_data.shape"
   ]
  },
  {
   "cell_type": "code",
   "execution_count": 5,
   "metadata": {},
   "outputs": [
    {
     "data": {
      "text/plain": [
       "array([[0],\n",
       "       [1],\n",
       "       [1],\n",
       "       [0]])"
      ]
     },
     "execution_count": 5,
     "metadata": {},
     "output_type": "execute_result"
    }
   ],
   "source": [
    "y_data"
   ]
  },
  {
   "cell_type": "code",
   "execution_count": 6,
   "metadata": {},
   "outputs": [],
   "source": [
    "X = tf.placeholder(tf.float32, [None, 2])\n",
    "Y = tf.placeholder(tf.float32, [None, 1])"
   ]
  },
  {
   "cell_type": "code",
   "execution_count": 7,
   "metadata": {},
   "outputs": [],
   "source": [
    "# Layer 1\n",
    "W1 = tf.Variable(tf.random_normal([2, 2]), dtype=tf.float32)\n",
    "b1 = tf.Variable(tf.random_normal([2]), dtype=tf.float32)\n",
    "L1 = tf.sigmoid(tf.matmul(X, W1) + b1)"
   ]
  },
  {
   "cell_type": "code",
   "execution_count": 8,
   "metadata": {},
   "outputs": [],
   "source": [
    "# Layer 2\n",
    "W2 = tf.Variable(tf.random_normal([2, 1]), dtype=tf.float32)\n",
    "b2 = tf.Variable(tf.random_normal([1]), dtype=tf.float32)\n",
    "hypo = tf.sigmoid(tf.matmul(L1, W2) + b2)"
   ]
  },
  {
   "cell_type": "markdown",
   "metadata": {},
   "source": [
    "* reduce_mean() : 차원 축소"
   ]
  },
  {
   "cell_type": "code",
   "execution_count": 9,
   "metadata": {},
   "outputs": [],
   "source": [
    "# Cost - Binary Cross Entropy\n",
    "cost = -tf.reduce_mean(Y * tf.log(hypo) + (1.-Y) * tf.log(1.-hypo))"
   ]
  },
  {
   "cell_type": "code",
   "execution_count": 31,
   "metadata": {},
   "outputs": [],
   "source": [
    "# Optimizer - Adam\n",
    "lr = 0.03\n",
    "# train = tf.train.AdamOptimizer(learning_rate=lr).minimize(cost)\n",
    "train = tf.train.GradientDescentOptimizer(learning_rate=lr).minimize(cost)"
   ]
  },
  {
   "cell_type": "code",
   "execution_count": 32,
   "metadata": {},
   "outputs": [],
   "source": [
    "# Accuracy 계산\n",
    "predicted = tf.cast(hypo > 0.5, dtype=tf.float32)\n",
    "accuracy = tf.reduce_mean(tf.cast(tf.equal(predicted, Y), dtype=tf.float32))"
   ]
  },
  {
   "cell_type": "code",
   "execution_count": 33,
   "metadata": {
    "scrolled": true
   },
   "outputs": [
    {
     "name": "stdout",
     "output_type": "stream",
     "text": [
      "0 0.7033546\n",
      "1000 0.69218135\n",
      "2000 0.6916635\n",
      "3000 0.69100124\n",
      "4000 0.6901117\n",
      "5000 0.6888426\n",
      "6000 0.6869204\n",
      "7000 0.6838564\n",
      "8000 0.6787641\n",
      "9000 0.67000216\n",
      "10000 0.6544302\n",
      "\n",
      "Hypothesis:\n",
      "[[0.55852014]\n",
      " [0.52181387]\n",
      " [0.5184631 ]\n",
      " [0.3890158 ]] \n",
      "Predicted:\n",
      "[[1.]\n",
      " [1.]\n",
      " [1.]\n",
      " [0.]] \n",
      "Accuracy:\n",
      "0.75\n",
      "\n",
      "W1:\n",
      "[[ 1.4703913  -0.8070558 ]\n",
      " [ 1.4819714  -0.98675984]] \n",
      "b1:\n",
      "[-2.8338425 -1.1841904] \n",
      "W2:\n",
      "[[-1.8209642]\n",
      " [-0.9504501]] \n",
      "b2:\n",
      "[0.5589528]\n"
     ]
    }
   ],
   "source": [
    "# 학습\n",
    "with tf.Session() as sess:\n",
    "    # Initialize TensorFlow variables\n",
    "    sess.run(tf.global_variables_initializer())\n",
    "    for step in range(10001):\n",
    "        _, cost_val = sess.run([train, cost], feed_dict={X: x_data, Y: y_data})\n",
    "        if step % 1000 == 0:\n",
    "            print(step, cost_val)\n",
    "            \n",
    "    # Accuracy report\n",
    "    h, p, a = sess.run([hypo, predicted, accuracy], feed_dict={X: x_data, Y: y_data})\n",
    "        \n",
    "    print(f\"\\nHypothesis:\\n{h} \\nPredicted:\\n{p} \\nAccuracy:\\n{a}\")\n",
    "    \n",
    "    # weight, bias\n",
    "    w1val, b1val, w2val, b2val = sess.run([W1, b1, W2, b2])\n",
    "    print(f\"\\nW1:\\n{w1val} \\nb1:\\n{b1val} \\nW2:\\n{w2val} \\nb2:\\n{b2val}\")"
   ]
  },
  {
   "cell_type": "code",
   "execution_count": null,
   "metadata": {},
   "outputs": [],
   "source": []
  }
 ],
 "metadata": {
  "kernelspec": {
   "display_name": "Python 3",
   "language": "python",
   "name": "python3"
  },
  "language_info": {
   "codemirror_mode": {
    "name": "ipython",
    "version": 3
   },
   "file_extension": ".py",
   "mimetype": "text/x-python",
   "name": "python",
   "nbconvert_exporter": "python",
   "pygments_lexer": "ipython3",
   "version": "3.7.3"
  }
 },
 "nbformat": 4,
 "nbformat_minor": 2
}
