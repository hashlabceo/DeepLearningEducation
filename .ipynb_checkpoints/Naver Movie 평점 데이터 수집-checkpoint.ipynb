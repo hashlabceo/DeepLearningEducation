{
 "cells": [
  {
   "cell_type": "markdown",
   "metadata": {},
   "source": [
    "# Naver Movie 평점 데이터 수집\n",
    "## 알라딘 Aladdin, 2019"
   ]
  },
  {
   "cell_type": "code",
   "execution_count": 1,
   "metadata": {},
   "outputs": [],
   "source": [
    "from bs4 import BeautifulSoup \n",
    "from urllib.request import urlopen"
   ]
  },
  {
   "cell_type": "code",
   "execution_count": 2,
   "metadata": {},
   "outputs": [],
   "source": [
    "url_base = 'https://movie.naver.com'\n",
    "url_sub = '/movie/bi/mi/point.nhn?code=163788'\n",
    "url = url_base + url_sub\n",
    "\n",
    "html = urlopen(url)\n",
    "soup = BeautifulSoup(html, \"html.parser\")"
   ]
  },
  {
   "cell_type": "markdown",
   "metadata": {},
   "source": [
    "### iframe에서 src 태그의 주소를 얻어야 함"
   ]
  },
  {
   "cell_type": "code",
   "execution_count": 3,
   "metadata": {},
   "outputs": [
    {
     "data": {
      "text/plain": [
       "'/movie/bi/mi/pointWriteFormList.nhn?code=163788&type=after&isActualPointWriteExecute=false&isMileageSubscriptionAlready=false&isMileageSubscriptionReject=false'"
      ]
     },
     "execution_count": 3,
     "metadata": {},
     "output_type": "execute_result"
    }
   ],
   "source": [
    "ifr_url = soup.find('iframe')['src']\n",
    "ifr_url"
   ]
  },
  {
   "cell_type": "markdown",
   "metadata": {},
   "source": [
    "### review 건수 구하기"
   ]
  },
  {
   "cell_type": "code",
   "execution_count": 7,
   "metadata": {},
   "outputs": [
    {
     "data": {
      "text/plain": [
       "<strong class=\"total\">관람객 평점 <em>26,438</em>건<button class=\"btn_review\" id=\"open-form-btn\">내 평점 등록</button></strong>"
      ]
     },
     "execution_count": 7,
     "metadata": {},
     "output_type": "execute_result"
    }
   ],
   "source": [
    "url = url_base + ifr_url\n",
    "html = urlopen(url)\n",
    "soup = BeautifulSoup(html, \"html.parser\")\n",
    "count = soup.find('strong', 'total')\n",
    "count"
   ]
  },
  {
   "cell_type": "code",
   "execution_count": 8,
   "metadata": {},
   "outputs": [
    {
     "data": {
      "text/plain": [
       "'26,438'"
      ]
     },
     "execution_count": 8,
     "metadata": {},
     "output_type": "execute_result"
    }
   ],
   "source": [
    "count = count.find('em').string\n",
    "count"
   ]
  },
  {
   "cell_type": "code",
   "execution_count": 9,
   "metadata": {},
   "outputs": [
    {
     "data": {
      "text/plain": [
       "26438"
      ]
     },
     "execution_count": 9,
     "metadata": {},
     "output_type": "execute_result"
    }
   ],
   "source": [
    "total_count = int(count.replace(',', ''))\n",
    "total_count"
   ]
  },
  {
   "cell_type": "code",
   "execution_count": 10,
   "metadata": {},
   "outputs": [
    {
     "data": {
      "text/plain": [
       "2644"
      ]
     },
     "execution_count": 10,
     "metadata": {},
     "output_type": "execute_result"
    }
   ],
   "source": [
    "import math\n",
    "total_page = math.ceil(total_count / 10)\n",
    "total_page"
   ]
  },
  {
   "cell_type": "markdown",
   "metadata": {},
   "source": [
    "### 첫번째 페이지에서 리뷰, 평점, 날짜 구해보기"
   ]
  },
  {
   "cell_type": "code",
   "execution_count": 11,
   "metadata": {},
   "outputs": [],
   "source": [
    "point = []\n",
    "review = []\n",
    "date = []\n",
    "results = soup.find('div', 'score_result')\n",
    "lis = results.find_all('li')\n",
    "for li in lis:\n",
    "    p = li.find('div', 'star_score').find('em').string\n",
    "    point.append(p)\n",
    "    r = li.find('div', 'score_reple').find('p').find('span').string.strip(' \\t\\n\\r')\n",
    "    review.append(r)\n",
    "    d = li.find('div', 'score_reple').find_all('em')[1].string\n",
    "    date.append(d)"
   ]
  },
  {
   "cell_type": "code",
   "execution_count": 27,
   "metadata": {},
   "outputs": [
    {
     "name": "stdout",
     "output_type": "stream",
     "text": [
      "1\n",
      "1\n",
      "1\n",
      "2\n",
      "1\n",
      "1\n",
      "1\n",
      "1\n",
      "1\n",
      "1\n"
     ]
    }
   ],
   "source": [
    "point = []\n",
    "review = []\n",
    "date = []\n",
    "results = soup.find('div', 'score_result')\n",
    "lis = results.find_all('li')\n",
    "for li in lis:\n",
    "    span = li.find('div', 'score_reple').find('p').find_all('span')\n",
    "#     print(len(span))\n",
    "    p = li.find('div', 'star_score').find('em').string\n",
    "    point.append(p)\n",
    "    if len(span) == 1:\n",
    "        r = li.find('div', 'score_reple').find('p').find('span').string.strip(' \\t\\n\\r')\n",
    "    else:\n",
    "        r = li.find('div', 'score_reple').find('p').find_all('span')[1].string.strip(' \\t\\n\\r')\n",
    "    review.append(r)\n",
    "    d = li.find('div', 'score_reple').find_all('em')[1].string\n",
    "    date.append(d)"
   ]
  },
  {
   "cell_type": "code",
   "execution_count": 28,
   "metadata": {},
   "outputs": [
    {
     "data": {
      "text/plain": [
       "[<span class=\"ico_viewer\">관람객</span>, <span id=\"_filtered_ment_3\">\n",
       " \t\t\t\t\t\t\t\t\t\t\t\t\t\t\n",
       " \t\t\t\t\t\t\t\t\t\t\t\t\t\t\t\n",
       " \t\t\t\t\t\t\t\t\t\t\t\t\t\t\t\n",
       " \t\t\t\t\t\t\t\t\t\t\t\t\t\t\t\t자스민의 speechless 명장면이고 덤으로 윌 스미스의 연기력 또한 매우 굿~~ \n",
       " \t\t\t\t\t\t\t\t\t\t\t\t\t\t\t\n",
       " \t\t\t\t\t\t\t\t\t\t\t\t\t\t\n",
       " \t\t\t\t\t\t\t\t\t\t\t\t\t\t\n",
       " \t\t\t\t\t\t\t\t\t\t\t\t\t</span>]"
      ]
     },
     "execution_count": 28,
     "metadata": {},
     "output_type": "execute_result"
    }
   ],
   "source": [
    "lis[3].find('div', 'score_reple').find('p').find_all('span')"
   ]
  },
  {
   "cell_type": "code",
   "execution_count": 29,
   "metadata": {},
   "outputs": [
    {
     "data": {
      "text/html": [
       "<div>\n",
       "<style scoped>\n",
       "    .dataframe tbody tr th:only-of-type {\n",
       "        vertical-align: middle;\n",
       "    }\n",
       "\n",
       "    .dataframe tbody tr th {\n",
       "        vertical-align: top;\n",
       "    }\n",
       "\n",
       "    .dataframe thead th {\n",
       "        text-align: right;\n",
       "    }\n",
       "</style>\n",
       "<table border=\"1\" class=\"dataframe\">\n",
       "  <thead>\n",
       "    <tr style=\"text-align: right;\">\n",
       "      <th></th>\n",
       "      <th>point</th>\n",
       "      <th>review</th>\n",
       "      <th>date</th>\n",
       "    </tr>\n",
       "  </thead>\n",
       "  <tbody>\n",
       "    <tr>\n",
       "      <th>0</th>\n",
       "      <td>10</td>\n",
       "      <td>윌 스미스가 하드캐리하여 의도치 않게 원작을 뛰어넘은 실사영화</td>\n",
       "      <td>2019.05.23 11:26</td>\n",
       "    </tr>\n",
       "    <tr>\n",
       "      <th>1</th>\n",
       "      <td>10</td>\n",
       "      <td>영화가 너무 아름답다..ost도 잊혀지지 안고 디즈니 실사중에서 최고중에 최고다 쟈...</td>\n",
       "      <td>2019.05.23 09:11</td>\n",
       "    </tr>\n",
       "    <tr>\n",
       "      <th>2</th>\n",
       "      <td>10</td>\n",
       "      <td>존잼임... 난 처음 도입부에 아~라~비안 나~잇 이 부분에서부터 감동받아서 울 뻔...</td>\n",
       "      <td>2019.05.23 21:57</td>\n",
       "    </tr>\n",
       "    <tr>\n",
       "      <th>3</th>\n",
       "      <td>10</td>\n",
       "      <td>자스민의 speechless 명장면이고 덤으로 윌 스미스의 연기력 또한 매우 굿~~</td>\n",
       "      <td>2019.05.23 12:55</td>\n",
       "    </tr>\n",
       "    <tr>\n",
       "      <th>4</th>\n",
       "      <td>10</td>\n",
       "      <td>A whole new world 나올때때 개소름...</td>\n",
       "      <td>2019.05.23 09:06</td>\n",
       "    </tr>\n",
       "    <tr>\n",
       "      <th>5</th>\n",
       "      <td>10</td>\n",
       "      <td>자스민 존나 이쁘다..</td>\n",
       "      <td>2019.05.23 17:36</td>\n",
       "    </tr>\n",
       "    <tr>\n",
       "      <th>6</th>\n",
       "      <td>10</td>\n",
       "      <td>지니가 나오면.. 이세상 흥이 아니다ㅎ</td>\n",
       "      <td>2019.05.23 21:54</td>\n",
       "    </tr>\n",
       "    <tr>\n",
       "      <th>7</th>\n",
       "      <td>10</td>\n",
       "      <td>일요일 아침 8시 디즈니 만화동산 챙겨보고 비디오 알라딘 애니도 수십번 빌려봐서 테...</td>\n",
       "      <td>2019.05.23 13:06</td>\n",
       "    </tr>\n",
       "    <tr>\n",
       "      <th>8</th>\n",
       "      <td>10</td>\n",
       "      <td>디즈니가 미쳤음.. 영화시장을 통재로 잡아먹으려고 작정을함..끝내주는 영화 이제껏 ...</td>\n",
       "      <td>2019.05.23 22:06</td>\n",
       "    </tr>\n",
       "    <tr>\n",
       "      <th>9</th>\n",
       "      <td>10</td>\n",
       "      <td>제일 우려스러웠던 윌스미스가 하드캐리하는바람에 원작 뛰어넘어버림 ㅋㅋㅋ</td>\n",
       "      <td>2019.05.24 00:49</td>\n",
       "    </tr>\n",
       "  </tbody>\n",
       "</table>\n",
       "</div>"
      ],
      "text/plain": [
       "  point                                             review              date\n",
       "0    10                 윌 스미스가 하드캐리하여 의도치 않게 원작을 뛰어넘은 실사영화  2019.05.23 11:26\n",
       "1    10  영화가 너무 아름답다..ost도 잊혀지지 안고 디즈니 실사중에서 최고중에 최고다 쟈...  2019.05.23 09:11\n",
       "2    10  존잼임... 난 처음 도입부에 아~라~비안 나~잇 이 부분에서부터 감동받아서 울 뻔...  2019.05.23 21:57\n",
       "3    10     자스민의 speechless 명장면이고 덤으로 윌 스미스의 연기력 또한 매우 굿~~  2019.05.23 12:55\n",
       "4    10                      A whole new world 나올때때 개소름...  2019.05.23 09:06\n",
       "5    10                                       자스민 존나 이쁘다..  2019.05.23 17:36\n",
       "6    10                              지니가 나오면.. 이세상 흥이 아니다ㅎ  2019.05.23 21:54\n",
       "7    10  일요일 아침 8시 디즈니 만화동산 챙겨보고 비디오 알라딘 애니도 수십번 빌려봐서 테...  2019.05.23 13:06\n",
       "8    10  디즈니가 미쳤음.. 영화시장을 통재로 잡아먹으려고 작정을함..끝내주는 영화 이제껏 ...  2019.05.23 22:06\n",
       "9    10            제일 우려스러웠던 윌스미스가 하드캐리하는바람에 원작 뛰어넘어버림 ㅋㅋㅋ  2019.05.24 00:49"
      ]
     },
     "execution_count": 29,
     "metadata": {},
     "output_type": "execute_result"
    }
   ],
   "source": [
    "import pandas as pd\n",
    "df = pd.DataFrame({'point':point, 'review':review, 'date':date})\n",
    "df"
   ]
  },
  {
   "cell_type": "code",
   "execution_count": null,
   "metadata": {},
   "outputs": [],
   "source": []
  }
 ],
 "metadata": {
  "kernelspec": {
   "display_name": "Python 3",
   "language": "python",
   "name": "python3"
  },
  "language_info": {
   "codemirror_mode": {
    "name": "ipython",
    "version": 3
   },
   "file_extension": ".py",
   "mimetype": "text/x-python",
   "name": "python",
   "nbconvert_exporter": "python",
   "pygments_lexer": "ipython3",
   "version": "3.7.3"
  }
 },
 "nbformat": 4,
 "nbformat_minor": 2
}
