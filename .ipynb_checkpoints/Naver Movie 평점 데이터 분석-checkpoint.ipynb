{
 "cells": [
  {
   "cell_type": "markdown",
   "metadata": {},
   "source": [
    "# Naver Movie 평점 데이터 분석\n",
    "## 알라딘 Aladdin, 2019"
   ]
  },
  {
   "cell_type": "markdown",
   "metadata": {},
   "source": [
    "### 엑셀 파일에서 데이터 읽어서 데이터프레임으로 만들기"
   ]
  },
  {
   "cell_type": "code",
   "execution_count": 29,
   "metadata": {},
   "outputs": [
    {
     "data": {
      "text/html": [
       "<div>\n",
       "<style scoped>\n",
       "    .dataframe tbody tr th:only-of-type {\n",
       "        vertical-align: middle;\n",
       "    }\n",
       "\n",
       "    .dataframe tbody tr th {\n",
       "        vertical-align: top;\n",
       "    }\n",
       "\n",
       "    .dataframe thead th {\n",
       "        text-align: right;\n",
       "    }\n",
       "</style>\n",
       "<table border=\"1\" class=\"dataframe\">\n",
       "  <thead>\n",
       "    <tr style=\"text-align: right;\">\n",
       "      <th></th>\n",
       "      <th>Unnamed: 0</th>\n",
       "      <th>point</th>\n",
       "      <th>review</th>\n",
       "      <th>date</th>\n",
       "    </tr>\n",
       "  </thead>\n",
       "  <tbody>\n",
       "    <tr>\n",
       "      <th>0</th>\n",
       "      <td>0</td>\n",
       "      <td>10</td>\n",
       "      <td>윌 스미스가 하드캐리하여 의도치 않게 원작을 뛰어넘은 실사영화</td>\n",
       "      <td>2019.05.23 11:26</td>\n",
       "    </tr>\n",
       "    <tr>\n",
       "      <th>1</th>\n",
       "      <td>1</td>\n",
       "      <td>10</td>\n",
       "      <td>영화가 너무 아름답다..ost도 잊혀지지 안고 디즈니 실사중에서 최고중에 최고다 쟈...</td>\n",
       "      <td>2019.05.23 09:11</td>\n",
       "    </tr>\n",
       "    <tr>\n",
       "      <th>2</th>\n",
       "      <td>2</td>\n",
       "      <td>10</td>\n",
       "      <td>존잼임... 난 처음 도입부에 아~라~비안 나~잇 이 부분에서부터 감동받아서 울 뻔...</td>\n",
       "      <td>2019.05.23 21:57</td>\n",
       "    </tr>\n",
       "    <tr>\n",
       "      <th>3</th>\n",
       "      <td>3</td>\n",
       "      <td>10</td>\n",
       "      <td>자스민의 speechless 명장면이고 덤으로 윌 스미스의 연기력 또한 매우 굿~~</td>\n",
       "      <td>2019.05.23 12:55</td>\n",
       "    </tr>\n",
       "    <tr>\n",
       "      <th>4</th>\n",
       "      <td>4</td>\n",
       "      <td>10</td>\n",
       "      <td>A whole new world 나올때때 개소름...</td>\n",
       "      <td>2019.05.23 09:06</td>\n",
       "    </tr>\n",
       "  </tbody>\n",
       "</table>\n",
       "</div>"
      ],
      "text/plain": [
       "   Unnamed: 0  point                                             review  \\\n",
       "0           0     10                 윌 스미스가 하드캐리하여 의도치 않게 원작을 뛰어넘은 실사영화   \n",
       "1           1     10  영화가 너무 아름답다..ost도 잊혀지지 안고 디즈니 실사중에서 최고중에 최고다 쟈...   \n",
       "2           2     10  존잼임... 난 처음 도입부에 아~라~비안 나~잇 이 부분에서부터 감동받아서 울 뻔...   \n",
       "3           3     10     자스민의 speechless 명장면이고 덤으로 윌 스미스의 연기력 또한 매우 굿~~   \n",
       "4           4     10                      A whole new world 나올때때 개소름...   \n",
       "\n",
       "               date  \n",
       "0  2019.05.23 11:26  \n",
       "1  2019.05.23 09:11  \n",
       "2  2019.05.23 21:57  \n",
       "3  2019.05.23 12:55  \n",
       "4  2019.05.23 09:06  "
      ]
     },
     "execution_count": 29,
     "metadata": {},
     "output_type": "execute_result"
    }
   ],
   "source": [
    "import pandas as pd\n",
    "df = pd.read_excel('data/04.NaverMovie_Aladdin.xlsx')\n",
    "df.head()"
   ]
  },
  {
   "cell_type": "code",
   "execution_count": 30,
   "metadata": {},
   "outputs": [
    {
     "data": {
      "text/html": [
       "<div>\n",
       "<style scoped>\n",
       "    .dataframe tbody tr th:only-of-type {\n",
       "        vertical-align: middle;\n",
       "    }\n",
       "\n",
       "    .dataframe tbody tr th {\n",
       "        vertical-align: top;\n",
       "    }\n",
       "\n",
       "    .dataframe thead th {\n",
       "        text-align: right;\n",
       "    }\n",
       "</style>\n",
       "<table border=\"1\" class=\"dataframe\">\n",
       "  <thead>\n",
       "    <tr style=\"text-align: right;\">\n",
       "      <th></th>\n",
       "      <th>point</th>\n",
       "      <th>review</th>\n",
       "      <th>date</th>\n",
       "    </tr>\n",
       "  </thead>\n",
       "  <tbody>\n",
       "    <tr>\n",
       "      <th>26435</th>\n",
       "      <td>3</td>\n",
       "      <td>지니 억텐. 알라딘 찐따 존재감 없음. 노래 시끄러움. 스토리 지겨움. 자스민 미드...</td>\n",
       "      <td>2019.05.29 11:09</td>\n",
       "    </tr>\n",
       "    <tr>\n",
       "      <th>26436</th>\n",
       "      <td>1</td>\n",
       "      <td>노래는 뮤지컬영화니까 나오는거고;;그냥 노래를 못 부름</td>\n",
       "      <td>2019.07.09 19:42</td>\n",
       "    </tr>\n",
       "    <tr>\n",
       "      <th>26437</th>\n",
       "      <td>1</td>\n",
       "      <td>엄복동같은 수작은 17만을 보고, 이런 허술한 판타지극은 개봉 7일만에 100만 돌...</td>\n",
       "      <td>2019.06.01 02:26</td>\n",
       "    </tr>\n",
       "    <tr>\n",
       "      <th>26438</th>\n",
       "      <td>1</td>\n",
       "      <td>최악!!!! 내용은 그냥 딱 만화 동화 수준,, 윌스미스 깨방정 조낸 보기 싫고 영...</td>\n",
       "      <td>2019.07.09 21:22</td>\n",
       "    </tr>\n",
       "    <tr>\n",
       "      <th>26439</th>\n",
       "      <td>1</td>\n",
       "      <td>알라딘이 결국 죽다니..</td>\n",
       "      <td>2019.05.23 10:36</td>\n",
       "    </tr>\n",
       "  </tbody>\n",
       "</table>\n",
       "</div>"
      ],
      "text/plain": [
       "       point                                             review  \\\n",
       "26435      3  지니 억텐. 알라딘 찐따 존재감 없음. 노래 시끄러움. 스토리 지겨움. 자스민 미드...   \n",
       "26436      1                     노래는 뮤지컬영화니까 나오는거고;;그냥 노래를 못 부름   \n",
       "26437      1  엄복동같은 수작은 17만을 보고, 이런 허술한 판타지극은 개봉 7일만에 100만 돌...   \n",
       "26438      1  최악!!!! 내용은 그냥 딱 만화 동화 수준,, 윌스미스 깨방정 조낸 보기 싫고 영...   \n",
       "26439      1                                      알라딘이 결국 죽다니..   \n",
       "\n",
       "                   date  \n",
       "26435  2019.05.29 11:09  \n",
       "26436  2019.07.09 19:42  \n",
       "26437  2019.06.01 02:26  \n",
       "26438  2019.07.09 21:22  \n",
       "26439  2019.05.23 10:36  "
      ]
     },
     "execution_count": 30,
     "metadata": {},
     "output_type": "execute_result"
    }
   ],
   "source": [
    "# cj\n",
    "df.drop(df.columns[0], axis='columns', inplace=True)\n",
    "df.tail()"
   ]
  },
  {
   "cell_type": "markdown",
   "metadata": {},
   "source": [
    "### Word Cloud 제작"
   ]
  },
  {
   "cell_type": "code",
   "execution_count": 31,
   "metadata": {},
   "outputs": [],
   "source": [
    "from wordcloud import WordCloud, STOPWORDS\n",
    "\n",
    "import matplotlib as mpl\n",
    "import matplotlib.pyplot as plt\n",
    "mpl.rcParams['axes.unicode_minus'] = False   # minus 표시\n",
    "plt.rcParams[\"font.family\"] = 'Malgun Gothic'\n",
    "plt.rcParams[\"font.size\"] = 10\n",
    "%matplotlib inline"
   ]
  },
  {
   "cell_type": "code",
   "execution_count": 32,
   "metadata": {},
   "outputs": [
    {
     "data": {
      "text/plain": [
       "(26440,)"
      ]
     },
     "execution_count": 32,
     "metadata": {},
     "output_type": "execute_result"
    }
   ],
   "source": [
    "reviews = df['review']\n",
    "reviews.shape"
   ]
  },
  {
   "cell_type": "code",
   "execution_count": 33,
   "metadata": {},
   "outputs": [
    {
     "data": {
      "text/plain": [
       "0                   윌 스미스가 하드캐리하여 의도치 않게 원작을 뛰어넘은 실사영화\n",
       "1    영화가 너무 아름답다..ost도 잊혀지지 안고 디즈니 실사중에서 최고중에 최고다 쟈...\n",
       "2    존잼임... 난 처음 도입부에 아~라~비안 나~잇 이 부분에서부터 감동받아서 울 뻔...\n",
       "3       자스민의 speechless 명장면이고 덤으로 윌 스미스의 연기력 또한 매우 굿~~\n",
       "4                        A whole new world 나올때때 개소름...\n",
       "Name: review, dtype: object"
      ]
     },
     "execution_count": 33,
     "metadata": {},
     "output_type": "execute_result"
    }
   ],
   "source": [
    "reviews.head()"
   ]
  },
  {
   "cell_type": "code",
   "execution_count": 34,
   "metadata": {},
   "outputs": [],
   "source": [
    "text = ''\n",
    "for rev in reviews:\n",
    "    text = text + str(rev) + '\\n'"
   ]
  },
  {
   "cell_type": "markdown",
   "metadata": {},
   "source": [
    "### 명사 추출후 많이 쓰인 단어 추출하기"
   ]
  },
  {
   "cell_type": "code",
   "execution_count": 35,
   "metadata": {},
   "outputs": [],
   "source": [
    "from konlpy.tag import Okt\n",
    "t = Okt()"
   ]
  },
  {
   "cell_type": "code",
   "execution_count": 36,
   "metadata": {},
   "outputs": [
    {
     "name": "stdout",
     "output_type": "stream",
     "text": [
      "Wall time: 35 s\n"
     ]
    },
    {
     "data": {
      "text/plain": [
       "['윌', '스미스', '하드캐리', '의도', '치', '원작', '실사영화', '영화', '도', '안고']"
      ]
     },
     "execution_count": 36,
     "metadata": {},
     "output_type": "execute_result"
    }
   ],
   "source": [
    "%time movie_words = t.nouns(text)\n",
    "movie_words[:10]"
   ]
  },
  {
   "cell_type": "code",
   "execution_count": 37,
   "metadata": {},
   "outputs": [
    {
     "data": {
      "text/plain": [
       "164169"
      ]
     },
     "execution_count": 37,
     "metadata": {},
     "output_type": "execute_result"
    }
   ],
   "source": [
    "len(movie_words)"
   ]
  },
  {
   "cell_type": "code",
   "execution_count": 38,
   "metadata": {},
   "outputs": [],
   "source": [
    "# Natural Language Toolkit\n",
    "import nltk"
   ]
  },
  {
   "cell_type": "code",
   "execution_count": 39,
   "metadata": {},
   "outputs": [
    {
     "name": "stdout",
     "output_type": "stream",
     "text": [
      "164169\n",
      "8343\n"
     ]
    }
   ],
   "source": [
    "movie_review = nltk.Text(movie_words, name='영화 평점')\n",
    "print(len(movie_review.tokens))\n",
    "print(len(set(movie_review.tokens)))"
   ]
  },
  {
   "cell_type": "code",
   "execution_count": 40,
   "metadata": {},
   "outputs": [
    {
     "data": {
      "text/plain": [
       "[('영화', 9609),\n",
       " ('노래', 3302),\n",
       " ('진짜', 3276),\n",
       " ('최고', 3273),\n",
       " ('알라딘', 2897),\n",
       " ('지니', 2404),\n",
       " ('윌스미스', 2320),\n",
       " ('디즈니', 2246),\n",
       " ('자스민', 2128),\n",
       " ('정말', 2017),\n",
       " ('감동', 1758),\n",
       " ('또', 1585),\n",
       " ('때', 1523),\n",
       " ('보고', 1421),\n",
       " ('더', 1394),\n",
       " ('번', 1291),\n",
       " ('연기', 1217),\n",
       " ('아이', 1129),\n",
       " ('꼭', 1078),\n",
       " ('실사', 992),\n",
       " ('원작', 980),\n",
       " ('배우', 972),\n",
       " ('음악', 970),\n",
       " ('생각', 927),\n",
       " ('공주', 839),\n",
       " ('스미스', 810),\n",
       " ('인생', 806),\n",
       " ('눈', 791),\n",
       " ('시간', 777),\n",
       " ('것', 775),\n",
       " ('그냥', 707),\n",
       " ('윌', 704),\n",
       " ('재미', 697),\n",
       " ('스토리', 691),\n",
       " ('다시', 691),\n",
       " ('처음', 679),\n",
       " ('역시', 672),\n",
       " ('한번', 661),\n",
       " ('말', 653),\n",
       " ('뮤지컬', 649),\n",
       " ('도', 648),\n",
       " ('기대', 631),\n",
       " ('느낌', 627),\n",
       " ('로', 605),\n",
       " ('볼', 603),\n",
       " ('정도', 600),\n",
       " ('쟈스민', 585),\n",
       " ('대박', 574),\n",
       " ('완전', 571),\n",
       " ('내', 556),\n",
       " ('기분', 548),\n",
       " ('이', 542),\n",
       " ('하나', 526),\n",
       " ('점', 525),\n",
       " ('영상', 523),\n",
       " ('소름', 516),\n",
       " ('추억', 504),\n",
       " ('주인공', 501),\n",
       " ('중', 498),\n",
       " ('수', 495),\n",
       " ('더빙', 494),\n",
       " ('장면', 493),\n",
       " ('내용', 487),\n",
       " ('임', 484),\n",
       " ('추천', 478),\n",
       " ('안', 477),\n",
       " ('그', 476),\n",
       " ('애니', 474),\n",
       " ('내내', 465),\n",
       " ('좀', 462),\n",
       " ('매력', 453),\n",
       " ('상미', 440),\n",
       " ('애니메이션', 438),\n",
       " ('듯', 426),\n",
       " ('사람', 426),\n",
       " ('모두', 421),\n",
       " ('영화관', 419),\n",
       " ('계속', 418),\n",
       " ('나', 412),\n",
       " ('하드캐리', 405),\n",
       " ('이상', 391),\n",
       " ('만화', 388),\n",
       " ('캐스팅', 382),\n",
       " ('보기', 379),\n",
       " ('만', 377),\n",
       " ('거', 365),\n",
       " ('평점', 364),\n",
       " ('어른', 362),\n",
       " ('나오미', 353),\n",
       " ('왜', 350),\n",
       " ('동화', 344),\n",
       " ('함', 343),\n",
       " ('애', 343),\n",
       " ('동심', 341),\n",
       " ('속', 330),\n",
       " ('양탄자', 324),\n",
       " ('짱', 319),\n",
       " ('중간', 319),\n",
       " ('부분', 316),\n",
       " ('사랑', 316)]"
      ]
     },
     "execution_count": 40,
     "metadata": {},
     "output_type": "execute_result"
    }
   ],
   "source": [
    "movie_review.vocab().most_common(100)"
   ]
  },
  {
   "cell_type": "code",
   "execution_count": 41,
   "metadata": {},
   "outputs": [],
   "source": [
    "stopwords = ['또','때','더','번','꼭','것','말','도','로','내','이','점','중','수',\n",
    "             '임','그','안','좀','듯','나','만','거','왜','함','애','속',\n",
    "            '영화', '진짜']"
   ]
  },
  {
   "cell_type": "code",
   "execution_count": 42,
   "metadata": {},
   "outputs": [
    {
     "name": "stdout",
     "output_type": "stream",
     "text": [
      "8315\n"
     ]
    },
    {
     "data": {
      "text/plain": [
       "[('노래', 3302),\n",
       " ('최고', 3273),\n",
       " ('알라딘', 2897),\n",
       " ('지니', 2404),\n",
       " ('윌스미스', 2320),\n",
       " ('디즈니', 2246),\n",
       " ('자스민', 2128),\n",
       " ('정말', 2017),\n",
       " ('감동', 1758),\n",
       " ('보고', 1421),\n",
       " ('연기', 1217),\n",
       " ('아이', 1129),\n",
       " ('실사', 992),\n",
       " ('원작', 980),\n",
       " ('배우', 972),\n",
       " ('음악', 970),\n",
       " ('생각', 927),\n",
       " ('공주', 839),\n",
       " ('스미스', 810),\n",
       " ('인생', 806),\n",
       " ('눈', 791),\n",
       " ('시간', 777),\n",
       " ('그냥', 707),\n",
       " ('윌', 704),\n",
       " ('재미', 697),\n",
       " ('스토리', 691),\n",
       " ('다시', 691),\n",
       " ('처음', 679),\n",
       " ('역시', 672),\n",
       " ('한번', 661),\n",
       " ('뮤지컬', 649),\n",
       " ('기대', 631),\n",
       " ('느낌', 627),\n",
       " ('볼', 603),\n",
       " ('정도', 600),\n",
       " ('쟈스민', 585),\n",
       " ('대박', 574),\n",
       " ('완전', 571),\n",
       " ('기분', 548),\n",
       " ('하나', 526),\n",
       " ('영상', 523),\n",
       " ('소름', 516),\n",
       " ('추억', 504),\n",
       " ('주인공', 501),\n",
       " ('더빙', 494),\n",
       " ('장면', 493),\n",
       " ('내용', 487),\n",
       " ('추천', 478),\n",
       " ('애니', 474),\n",
       " ('내내', 465)]"
      ]
     },
     "execution_count": 42,
     "metadata": {},
     "output_type": "execute_result"
    }
   ],
   "source": [
    "movie_words = [each_word for each_word in movie_words \n",
    "                            if each_word not in stopwords]\n",
    "\n",
    "movie_review = nltk.Text(movie_words, name='영화 평점')\n",
    "print(len(set(movie_review.tokens)))\n",
    "movie_review.vocab().most_common(50)"
   ]
  },
  {
   "cell_type": "code",
   "execution_count": 43,
   "metadata": {},
   "outputs": [
    {
     "data": {
      "image/png": "[encoded data removed]",
      "text/plain": [
       "<Figure size 864x432 with 1 Axes>"
      ]
     },
     "metadata": {
      "needs_background": "light"
     },
     "output_type": "display_data"
    }
   ],
   "source": [
    "plt.figure(figsize=(12,6))\n",
    "movie_review.plot(50) \n",
    "plt.show()"
   ]
  },
  {
   "cell_type": "code",
   "execution_count": 44,
   "metadata": {},
   "outputs": [
    {
     "data": {
      "image/png": "[encoded data removed]",
      "text/plain": [
       "<Figure size 864x720 with 1 Axes>"
      ]
     },
     "metadata": {
      "needs_background": "light"
     },
     "output_type": "display_data"
    }
   ],
   "source": [
    "data = movie_review.vocab().most_common(300)\n",
    "\n",
    "wordcloud = WordCloud(font_path='c:/Windows/Fonts/malgun.ttf',\n",
    "                      relative_scaling = 0.2, background_color='white',\n",
    "                      ).generate_from_frequencies(dict(data))\n",
    "plt.figure(figsize=(12,10))\n",
    "plt.imshow(wordcloud)\n",
    "plt.axis(\"off\")\n",
    "plt.show()"
   ]
  },
  {
   "cell_type": "markdown",
   "metadata": {},
   "source": [
    "### 일별/시간별 평점 분석"
   ]
  },
  {
   "cell_type": "code",
   "execution_count": 45,
   "metadata": {},
   "outputs": [],
   "source": [
    "score = pd.to_numeric(df['point'])"
   ]
  },
  {
   "cell_type": "code",
   "execution_count": 46,
   "metadata": {},
   "outputs": [
    {
     "data": {
      "text/plain": [
       "(26440,)"
      ]
     },
     "execution_count": 46,
     "metadata": {},
     "output_type": "execute_result"
    }
   ],
   "source": [
    "score.shape"
   ]
  },
  {
   "cell_type": "code",
   "execution_count": 47,
   "metadata": {},
   "outputs": [
    {
     "data": {
      "text/plain": [
       "0    2019.05.23 11:26\n",
       "1    2019.05.23 09:11\n",
       "2    2019.05.23 21:57\n",
       "3    2019.05.23 12:55\n",
       "4    2019.05.23 09:06\n",
       "Name: date, dtype: object"
      ]
     },
     "execution_count": 47,
     "metadata": {},
     "output_type": "execute_result"
    }
   ],
   "source": [
    "df['date'].head()"
   ]
  },
  {
   "cell_type": "code",
   "execution_count": 48,
   "metadata": {},
   "outputs": [],
   "source": [
    "import datetime\n",
    "day_of_the_week = ['월', '화', '수', '목', '금', '토', '일']\n",
    "year = []\n",
    "month = []\n",
    "day = []\n",
    "hour = []\n",
    "dotw = []\n",
    "for date in df['date']:\n",
    "    date = str(date)\n",
    "    year.append(int(date[:4]))\n",
    "    month.append(int(date[5:7]))\n",
    "    day.append(int(date[8:10]))\n",
    "    hour.append(int(date[11:13]))\n",
    "    dotw.append(day_of_the_week[datetime.date(int(date[:4]), int(date[5:7]), int(date[8:10])).weekday()])"
   ]
  },
  {
   "cell_type": "code",
   "execution_count": 49,
   "metadata": {},
   "outputs": [
    {
     "data": {
      "text/html": [
       "<div>\n",
       "<style scoped>\n",
       "    .dataframe tbody tr th:only-of-type {\n",
       "        vertical-align: middle;\n",
       "    }\n",
       "\n",
       "    .dataframe tbody tr th {\n",
       "        vertical-align: top;\n",
       "    }\n",
       "\n",
       "    .dataframe thead th {\n",
       "        text-align: right;\n",
       "    }\n",
       "</style>\n",
       "<table border=\"1\" class=\"dataframe\">\n",
       "  <thead>\n",
       "    <tr style=\"text-align: right;\">\n",
       "      <th></th>\n",
       "      <th>score</th>\n",
       "      <th>year</th>\n",
       "      <th>month</th>\n",
       "      <th>day</th>\n",
       "      <th>hour</th>\n",
       "      <th>dotw</th>\n",
       "    </tr>\n",
       "  </thead>\n",
       "  <tbody>\n",
       "    <tr>\n",
       "      <th>0</th>\n",
       "      <td>10</td>\n",
       "      <td>2019</td>\n",
       "      <td>5</td>\n",
       "      <td>23</td>\n",
       "      <td>11</td>\n",
       "      <td>목</td>\n",
       "    </tr>\n",
       "    <tr>\n",
       "      <th>1</th>\n",
       "      <td>10</td>\n",
       "      <td>2019</td>\n",
       "      <td>5</td>\n",
       "      <td>23</td>\n",
       "      <td>9</td>\n",
       "      <td>목</td>\n",
       "    </tr>\n",
       "    <tr>\n",
       "      <th>2</th>\n",
       "      <td>10</td>\n",
       "      <td>2019</td>\n",
       "      <td>5</td>\n",
       "      <td>23</td>\n",
       "      <td>21</td>\n",
       "      <td>목</td>\n",
       "    </tr>\n",
       "    <tr>\n",
       "      <th>3</th>\n",
       "      <td>10</td>\n",
       "      <td>2019</td>\n",
       "      <td>5</td>\n",
       "      <td>23</td>\n",
       "      <td>12</td>\n",
       "      <td>목</td>\n",
       "    </tr>\n",
       "    <tr>\n",
       "      <th>4</th>\n",
       "      <td>10</td>\n",
       "      <td>2019</td>\n",
       "      <td>5</td>\n",
       "      <td>23</td>\n",
       "      <td>9</td>\n",
       "      <td>목</td>\n",
       "    </tr>\n",
       "  </tbody>\n",
       "</table>\n",
       "</div>"
      ],
      "text/plain": [
       "   score  year  month  day  hour dotw\n",
       "0     10  2019      5   23    11    목\n",
       "1     10  2019      5   23     9    목\n",
       "2     10  2019      5   23    21    목\n",
       "3     10  2019      5   23    12    목\n",
       "4     10  2019      5   23     9    목"
      ]
     },
     "execution_count": 49,
     "metadata": {},
     "output_type": "execute_result"
    }
   ],
   "source": [
    "pdf = pd.DataFrame({'score':score, 'year':year, 'month':month, 'day':day, 'hour':hour, 'dotw':dotw})\n",
    "pdf.head()"
   ]
  },
  {
   "cell_type": "code",
   "execution_count": 50,
   "metadata": {},
   "outputs": [
    {
     "data": {
      "text/plain": [
       "hour\n",
       "0     9.536266\n",
       "1     9.298231\n",
       "2     9.317308\n",
       "3     9.457746\n",
       "4     9.236715\n",
       "5     8.839506\n",
       "6     9.357143\n",
       "7     9.292899\n",
       "8     9.403390\n",
       "9     9.350427\n",
       "10    9.378669\n",
       "11    9.328165\n",
       "12    9.361261\n",
       "13    9.354938\n",
       "14    9.373028\n",
       "15    9.389049\n",
       "16    9.327953\n",
       "17    9.368533\n",
       "18    9.451965\n",
       "19    9.374815\n",
       "20    9.448735\n",
       "21    9.441032\n",
       "22    9.460222\n",
       "23    9.434101\n",
       "Name: score, dtype: float64"
      ]
     },
     "execution_count": 50,
     "metadata": {},
     "output_type": "execute_result"
    }
   ],
   "source": [
    "score_by_hour = pdf['score'].groupby(pdf['hour']).mean()\n",
    "score_by_hour"
   ]
  },
  {
   "cell_type": "code",
   "execution_count": 51,
   "metadata": {},
   "outputs": [
    {
     "data": {
      "image/png": "[encoded data removed]",
      "text/plain": [
       "<Figure size 432x288 with 1 Axes>"
      ]
     },
     "metadata": {
      "needs_background": "light"
     },
     "output_type": "display_data"
    }
   ],
   "source": [
    "plt.plot(score_by_hour)\n",
    "plt.title('시간별 평점')\n",
    "plt.show()"
   ]
  },
  {
   "cell_type": "code",
   "execution_count": 52,
   "metadata": {},
   "outputs": [
    {
     "data": {
      "text/plain": [
       "month\n",
       "5     9.492754\n",
       "6     9.476757\n",
       "7     9.317697\n",
       "8     9.104758\n",
       "9     8.795122\n",
       "10    8.722222\n",
       "Name: score, dtype: float64"
      ]
     },
     "execution_count": 52,
     "metadata": {},
     "output_type": "execute_result"
    }
   ],
   "source": [
    "score_by_month = pdf['score'].groupby(pdf['month']).mean()\n",
    "score_by_month"
   ]
  },
  {
   "cell_type": "code",
   "execution_count": 57,
   "metadata": {},
   "outputs": [
    {
     "data": {
      "image/png": "[encoded data removed]",
      "text/plain": [
       "<Figure size 432x288 with 1 Axes>"
      ]
     },
     "metadata": {
      "needs_background": "light"
     },
     "output_type": "display_data"
    }
   ],
   "source": [
    "plt.plot(score_by_month)\n",
    "plt.title('월별 평점')\n",
    "plt.show()"
   ]
  },
  {
   "cell_type": "code",
   "execution_count": 53,
   "metadata": {},
   "outputs": [
    {
     "data": {
      "text/plain": [
       "year  month  day\n",
       "2019  5      23     9.368421\n",
       "             24     9.333333\n",
       "             25     9.531915\n",
       "             26     9.618596\n",
       "             27     9.508902\n",
       "             28     9.483940\n",
       "             29     9.465116\n",
       "             30     9.537770\n",
       "             31     9.379310\n",
       "      6      1      9.622824\n",
       "             2      9.569715\n",
       "             3      9.398568\n",
       "             4      9.410345\n",
       "             5      9.243816\n",
       "             6      9.618705\n",
       "             7      9.600000\n",
       "             8      9.472546\n",
       "             9      9.575887\n",
       "             10     9.599147\n",
       "             11     9.493421\n",
       "             12     9.537634\n",
       "             13     9.403101\n",
       "             14     9.344828\n",
       "             15     9.478873\n",
       "             16     9.570952\n",
       "             17     9.462103\n",
       "             18     9.331081\n",
       "             19     9.432886\n",
       "             20     9.527076\n",
       "             21     9.647287\n",
       "                      ...   \n",
       "      9      28     7.857143\n",
       "             29     8.846154\n",
       "             30     9.444444\n",
       "      10     1      9.200000\n",
       "             2      7.777778\n",
       "             3      9.066667\n",
       "             4      7.166667\n",
       "             5      8.846154\n",
       "             6      8.842105\n",
       "             7      8.181818\n",
       "             8      9.571429\n",
       "             9      9.090909\n",
       "             10     7.857143\n",
       "             11     9.714286\n",
       "             12     8.200000\n",
       "             13     9.076923\n",
       "             14     9.333333\n",
       "             15     9.500000\n",
       "             16     6.666667\n",
       "             17     9.666667\n",
       "             18     8.700000\n",
       "             19     7.444444\n",
       "             20     8.833333\n",
       "             21     9.333333\n",
       "             22     8.750000\n",
       "             23     8.857143\n",
       "             24     8.666667\n",
       "             25     9.142857\n",
       "             26     9.363636\n",
       "             27     8.166667\n",
       "Name: score, Length: 158, dtype: float64"
      ]
     },
     "execution_count": 53,
     "metadata": {},
     "output_type": "execute_result"
    }
   ],
   "source": [
    "score_by_day = pdf['score'].groupby([pdf['year'], pdf['month'], pdf['day']]).mean()\n",
    "score_by_day"
   ]
  },
  {
   "cell_type": "code",
   "execution_count": null,
   "metadata": {},
   "outputs": [],
   "source": []
  },
  {
   "cell_type": "code",
   "execution_count": 54,
   "metadata": {},
   "outputs": [
    {
     "data": {
      "text/plain": [
       "dotw\n",
       "금    9.360036\n",
       "목    9.377358\n",
       "수    9.389576\n",
       "월    9.365885\n",
       "일    9.459882\n",
       "토    9.403273\n",
       "화    9.346903\n",
       "Name: score, dtype: float64"
      ]
     },
     "execution_count": 54,
     "metadata": {},
     "output_type": "execute_result"
    }
   ],
   "source": [
    "score_by_dotw = pdf['score'].groupby(pdf['dotw']).mean()\n",
    "score_by_dotw"
   ]
  },
  {
   "cell_type": "code",
   "execution_count": 60,
   "metadata": {},
   "outputs": [
    {
     "data": {
      "image/png": "[encoded data removed]",
      "text/plain": [
       "<Figure size 432x288 with 1 Axes>"
      ]
     },
     "metadata": {
      "needs_background": "light"
     },
     "output_type": "display_data"
    }
   ],
   "source": [
    "plt.plot(score_by_dotw)\n",
    "plt.title('요일별 평점')\n",
    "plt.show()"
   ]
  },
  {
   "cell_type": "code",
   "execution_count": 55,
   "metadata": {},
   "outputs": [
    {
     "data": {
      "text/plain": [
       "pandas.core.series.Series"
      ]
     },
     "execution_count": 55,
     "metadata": {},
     "output_type": "execute_result"
    }
   ],
   "source": [
    "type(score_by_dotw)"
   ]
  },
  {
   "cell_type": "code",
   "execution_count": 56,
   "metadata": {},
   "outputs": [
    {
     "data": {
      "text/html": [
       "<div>\n",
       "<style scoped>\n",
       "    .dataframe tbody tr th:only-of-type {\n",
       "        vertical-align: middle;\n",
       "    }\n",
       "\n",
       "    .dataframe tbody tr th {\n",
       "        vertical-align: top;\n",
       "    }\n",
       "\n",
       "    .dataframe thead th {\n",
       "        text-align: right;\n",
       "    }\n",
       "</style>\n",
       "<table border=\"1\" class=\"dataframe\">\n",
       "  <thead>\n",
       "    <tr style=\"text-align: right;\">\n",
       "      <th></th>\n",
       "      <th>score</th>\n",
       "    </tr>\n",
       "    <tr>\n",
       "      <th>dotw</th>\n",
       "      <th></th>\n",
       "    </tr>\n",
       "  </thead>\n",
       "  <tbody>\n",
       "    <tr>\n",
       "      <th>금</th>\n",
       "      <td>9.360036</td>\n",
       "    </tr>\n",
       "    <tr>\n",
       "      <th>목</th>\n",
       "      <td>9.377358</td>\n",
       "    </tr>\n",
       "    <tr>\n",
       "      <th>수</th>\n",
       "      <td>9.389576</td>\n",
       "    </tr>\n",
       "    <tr>\n",
       "      <th>월</th>\n",
       "      <td>9.365885</td>\n",
       "    </tr>\n",
       "    <tr>\n",
       "      <th>일</th>\n",
       "      <td>9.459882</td>\n",
       "    </tr>\n",
       "    <tr>\n",
       "      <th>토</th>\n",
       "      <td>9.403273</td>\n",
       "    </tr>\n",
       "    <tr>\n",
       "      <th>화</th>\n",
       "      <td>9.346903</td>\n",
       "    </tr>\n",
       "  </tbody>\n",
       "</table>\n",
       "</div>"
      ],
      "text/plain": [
       "         score\n",
       "dotw          \n",
       "금     9.360036\n",
       "목     9.377358\n",
       "수     9.389576\n",
       "월     9.365885\n",
       "일     9.459882\n",
       "토     9.403273\n",
       "화     9.346903"
      ]
     },
     "execution_count": 56,
     "metadata": {},
     "output_type": "execute_result"
    }
   ],
   "source": [
    "sdf = pd.DataFrame(score_by_dotw)\n",
    "sdf"
   ]
  },
  {
   "cell_type": "code",
   "execution_count": 61,
   "metadata": {},
   "outputs": [
    {
     "data": {
      "text/plain": [
       "Index(['금', '목', '수', '월', '일', '토', '화'], dtype='object', name='dotw')"
      ]
     },
     "execution_count": 61,
     "metadata": {},
     "output_type": "execute_result"
    }
   ],
   "source": [
    "sdf.index"
   ]
  },
  {
   "cell_type": "code",
   "execution_count": 62,
   "metadata": {},
   "outputs": [
    {
     "data": {
      "text/html": [
       "<div>\n",
       "<style scoped>\n",
       "    .dataframe tbody tr th:only-of-type {\n",
       "        vertical-align: middle;\n",
       "    }\n",
       "\n",
       "    .dataframe tbody tr th {\n",
       "        vertical-align: top;\n",
       "    }\n",
       "\n",
       "    .dataframe thead th {\n",
       "        text-align: right;\n",
       "    }\n",
       "</style>\n",
       "<table border=\"1\" class=\"dataframe\">\n",
       "  <thead>\n",
       "    <tr style=\"text-align: right;\">\n",
       "      <th></th>\n",
       "      <th>score</th>\n",
       "    </tr>\n",
       "    <tr>\n",
       "      <th>dotw</th>\n",
       "      <th></th>\n",
       "    </tr>\n",
       "  </thead>\n",
       "  <tbody>\n",
       "    <tr>\n",
       "      <th>월</th>\n",
       "      <td>9.365885</td>\n",
       "    </tr>\n",
       "    <tr>\n",
       "      <th>화</th>\n",
       "      <td>9.346903</td>\n",
       "    </tr>\n",
       "    <tr>\n",
       "      <th>수</th>\n",
       "      <td>9.389576</td>\n",
       "    </tr>\n",
       "    <tr>\n",
       "      <th>목</th>\n",
       "      <td>9.377358</td>\n",
       "    </tr>\n",
       "    <tr>\n",
       "      <th>금</th>\n",
       "      <td>9.360036</td>\n",
       "    </tr>\n",
       "    <tr>\n",
       "      <th>토</th>\n",
       "      <td>9.403273</td>\n",
       "    </tr>\n",
       "    <tr>\n",
       "      <th>일</th>\n",
       "      <td>9.459882</td>\n",
       "    </tr>\n",
       "  </tbody>\n",
       "</table>\n",
       "</div>"
      ],
      "text/plain": [
       "         score\n",
       "dotw          \n",
       "월     9.365885\n",
       "화     9.346903\n",
       "수     9.389576\n",
       "목     9.377358\n",
       "금     9.360036\n",
       "토     9.403273\n",
       "일     9.459882"
      ]
     },
     "execution_count": 62,
     "metadata": {},
     "output_type": "execute_result"
    }
   ],
   "source": [
    "# 순서 변경\n",
    "sdf.index = pd.CategoricalIndex(sdf.index, \n",
    "           categories=['월', '화', '수', '목', '금', '토', '일'], ordered=True)\n",
    "sdf = sdf.sort_index()\n",
    "sdf"
   ]
  },
  {
   "cell_type": "code",
   "execution_count": 63,
   "metadata": {},
   "outputs": [
    {
     "data": {
      "text/plain": [
       "CategoricalIndex(['월', '화', '수', '목', '금', '토', '일'], categories=['월', '화', '수', '목', '금', '토', '일'], ordered=True, name='dotw', dtype='category')"
      ]
     },
     "execution_count": 63,
     "metadata": {},
     "output_type": "execute_result"
    }
   ],
   "source": [
    "sdf.index"
   ]
  },
  {
   "cell_type": "code",
   "execution_count": 64,
   "metadata": {},
   "outputs": [
    {
     "data": {
      "image/png": "[encoded data removed]",
      "text/plain": [
       "<Figure size 432x288 with 1 Axes>"
      ]
     },
     "metadata": {
      "needs_background": "light"
     },
     "output_type": "display_data"
    }
   ],
   "source": [
    "sdf.plot()\n",
    "plt.title('요일별 평점')\n",
    "plt.show()"
   ]
  },
  {
   "cell_type": "code",
   "execution_count": null,
   "metadata": {},
   "outputs": [],
   "source": []
  }
 ],
 "metadata": {
  "kernelspec": {
   "display_name": "Python 3",
   "language": "python",
   "name": "python3"
  },
  "language_info": {
   "codemirror_mode": {
    "name": "ipython",
    "version": 3
   },
   "file_extension": ".py",
   "mimetype": "text/x-python",
   "name": "python",
   "nbconvert_exporter": "python",
   "pygments_lexer": "ipython3",
   "version": "3.7.3"
  }
 },
 "nbformat": 4,
 "nbformat_minor": 2
}
