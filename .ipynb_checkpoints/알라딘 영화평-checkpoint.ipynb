{
 "cells": [
  {
   "cell_type": "markdown",
   "metadata": {},
   "source": [
    "# 네이버 영화평(알라딘)에 나온 형태소 SQLite DB에 저장\n",
    "* 영화평에 나온 형태소 추출\n",
    "* Okt 형태소 분석\n",
    "* 형태소, 품사, 나온횟수 DB에 저장하기"
   ]
  },
  {
   "cell_type": "code",
   "execution_count": 57,
   "metadata": {},
   "outputs": [],
   "source": [
    "import numpy as np\n",
    "import pandas as pd\n",
    "import sqlite3"
   ]
  },
  {
   "cell_type": "code",
   "execution_count": 58,
   "metadata": {},
   "outputs": [
    {
     "data": {
      "text/html": [
       "<div>\n",
       "<style scoped>\n",
       "    .dataframe tbody tr th:only-of-type {\n",
       "        vertical-align: middle;\n",
       "    }\n",
       "\n",
       "    .dataframe tbody tr th {\n",
       "        vertical-align: top;\n",
       "    }\n",
       "\n",
       "    .dataframe thead th {\n",
       "        text-align: right;\n",
       "    }\n",
       "</style>\n",
       "<table border=\"1\" class=\"dataframe\">\n",
       "  <thead>\n",
       "    <tr style=\"text-align: right;\">\n",
       "      <th></th>\n",
       "      <th>point</th>\n",
       "      <th>review</th>\n",
       "      <th>date</th>\n",
       "    </tr>\n",
       "  </thead>\n",
       "  <tbody>\n",
       "    <tr>\n",
       "      <th>0</th>\n",
       "      <td>10</td>\n",
       "      <td>윌 스미스가 하드캐리하여 의도치 않게 원작을 뛰어넘은 실사영화</td>\n",
       "      <td>2019.05.23 11:26</td>\n",
       "    </tr>\n",
       "    <tr>\n",
       "      <th>1</th>\n",
       "      <td>10</td>\n",
       "      <td>영화가 너무 아름답다..ost도 잊혀지지 안고 디즈니 실사중에서 최고중에 최고다 쟈...</td>\n",
       "      <td>2019.05.23 09:11</td>\n",
       "    </tr>\n",
       "    <tr>\n",
       "      <th>2</th>\n",
       "      <td>10</td>\n",
       "      <td>존잼임... 난 처음 도입부에 아~라~비안 나~잇 이 부분에서부터 감동받아서 울 뻔...</td>\n",
       "      <td>2019.05.23 21:57</td>\n",
       "    </tr>\n",
       "    <tr>\n",
       "      <th>3</th>\n",
       "      <td>10</td>\n",
       "      <td>자스민의 speechless 명장면이고 덤으로 윌 스미스의 연기력 또한 매우 굿~~</td>\n",
       "      <td>2019.05.23 12:55</td>\n",
       "    </tr>\n",
       "    <tr>\n",
       "      <th>4</th>\n",
       "      <td>10</td>\n",
       "      <td>A whole new world 나올때때 개소름...</td>\n",
       "      <td>2019.05.23 09:06</td>\n",
       "    </tr>\n",
       "  </tbody>\n",
       "</table>\n",
       "</div>"
      ],
      "text/plain": [
       "   point                                             review              date\n",
       "0     10                 윌 스미스가 하드캐리하여 의도치 않게 원작을 뛰어넘은 실사영화  2019.05.23 11:26\n",
       "1     10  영화가 너무 아름답다..ost도 잊혀지지 안고 디즈니 실사중에서 최고중에 최고다 쟈...  2019.05.23 09:11\n",
       "2     10  존잼임... 난 처음 도입부에 아~라~비안 나~잇 이 부분에서부터 감동받아서 울 뻔...  2019.05.23 21:57\n",
       "3     10     자스민의 speechless 명장면이고 덤으로 윌 스미스의 연기력 또한 매우 굿~~  2019.05.23 12:55\n",
       "4     10                      A whole new world 나올때때 개소름...  2019.05.23 09:06"
      ]
     },
     "execution_count": 58,
     "metadata": {},
     "output_type": "execute_result"
    }
   ],
   "source": [
    "df = pd.read_excel('data/04.NaverMovie_Aladdin.xlsx')\n",
    "df.drop(df.columns[0], axis='columns', inplace=True)\n",
    "df.head()"
   ]
  },
  {
   "cell_type": "code",
   "execution_count": 6,
   "metadata": {},
   "outputs": [
    {
     "data": {
      "text/plain": [
       "(26440,)"
      ]
     },
     "execution_count": 6,
     "metadata": {},
     "output_type": "execute_result"
    }
   ],
   "source": [
    "reviews = df['review']\n",
    "reviews.shape"
   ]
  },
  {
   "cell_type": "code",
   "execution_count": 8,
   "metadata": {},
   "outputs": [],
   "source": [
    "conn = sqlite3.connect('./movie.db')\n",
    "cur = conn.cursor()"
   ]
  },
  {
   "cell_type": "code",
   "execution_count": 9,
   "metadata": {},
   "outputs": [
    {
     "data": {
      "text/plain": [
       "<sqlite3.Cursor at 0x1c2b9f848f0>"
      ]
     },
     "execution_count": 9,
     "metadata": {},
     "output_type": "execute_result"
    }
   ],
   "source": [
    "cur.execute('create table if not exists movie_reviews \\\n",
    "    (word TEXT, \\\n",
    "    pos TEXT, \\\n",
    "    count INT, \\\n",
    "    PRIMARY KEY(word, pos));')"
   ]
  },
  {
   "cell_type": "code",
   "execution_count": 10,
   "metadata": {},
   "outputs": [
    {
     "name": "stderr",
     "output_type": "stream",
     "text": [
      "C:\\Users\\EZEN\\Anaconda3\\lib\\site-packages\\jpype\\_core.py:210: UserWarning: \n",
      "-------------------------------------------------------------------------------\n",
      "Deprecated: convertStrings was not specified when starting the JVM. The default\n",
      "behavior in JPype will be False starting in JPype 0.8. The recommended setting\n",
      "for new code is convertStrings=False.  The legacy value of True was assumed for\n",
      "this session. If you are a user of an application that reported this warning,\n",
      "please file a ticket with the developer.\n",
      "-------------------------------------------------------------------------------\n",
      "\n",
      "  \"\"\")\n"
     ]
    }
   ],
   "source": [
    "from konlpy.tag import Okt\n",
    "okt = Okt()"
   ]
  },
  {
   "cell_type": "code",
   "execution_count": 24,
   "metadata": {},
   "outputs": [
    {
     "data": {
      "text/plain": [
       "[('윌', 'Noun'),\n",
       " ('스미스', 'Noun'),\n",
       " ('가', 'Josa'),\n",
       " ('하드캐리', 'Noun'),\n",
       " ('하여', 'Verb'),\n",
       " ('의도', 'Noun'),\n",
       " ('치', 'Noun'),\n",
       " ('않게', 'Verb'),\n",
       " ('원작', 'Noun'),\n",
       " ('을', 'Josa'),\n",
       " ('뛰어넘은', 'Verb'),\n",
       " ('실사영화', 'Noun')]"
      ]
     },
     "execution_count": 24,
     "metadata": {},
     "output_type": "execute_result"
    }
   ],
   "source": [
    "morphs = okt.pos(str(reviews[0]))\n",
    "morphs"
   ]
  },
  {
   "cell_type": "code",
   "execution_count": 25,
   "metadata": {},
   "outputs": [
    {
     "ename": "IntegrityError",
     "evalue": "UNIQUE constraint failed: movie_reviews.word, movie_reviews.pos",
     "output_type": "error",
     "traceback": [
      "\u001b[1;31m---------------------------------------------------------------------------\u001b[0m",
      "\u001b[1;31mIntegrityError\u001b[0m                            Traceback (most recent call last)",
      "\u001b[1;32m<ipython-input-25-d01800001c01>\u001b[0m in \u001b[0;36m<module>\u001b[1;34m\u001b[0m\n\u001b[0;32m      1\u001b[0m \u001b[1;31m# 테스트 데이터 입력\u001b[0m\u001b[1;33m\u001b[0m\u001b[1;33m\u001b[0m\u001b[1;33m\u001b[0m\u001b[0m\n\u001b[1;32m----> 2\u001b[1;33m \u001b[0mcur\u001b[0m\u001b[1;33m.\u001b[0m\u001b[0mexecute\u001b[0m\u001b[1;33m(\u001b[0m\u001b[1;34m\"INSERT INTO Movie_reviews VALUES('윌', 'Noun', 1);\"\u001b[0m\u001b[1;33m)\u001b[0m\u001b[1;33m\u001b[0m\u001b[1;33m\u001b[0m\u001b[0m\n\u001b[0m\u001b[0;32m      3\u001b[0m \u001b[0mconn\u001b[0m\u001b[1;33m.\u001b[0m\u001b[0mcommit\u001b[0m\u001b[1;33m(\u001b[0m\u001b[1;33m)\u001b[0m\u001b[1;33m\u001b[0m\u001b[1;33m\u001b[0m\u001b[0m\n",
      "\u001b[1;31mIntegrityError\u001b[0m: UNIQUE constraint failed: movie_reviews.word, movie_reviews.pos"
     ]
    }
   ],
   "source": [
    "# 테스트 데이터 입력\n",
    "cur.execute(\"INSERT INTO Movie_reviews VALUES('윌', 'Noun', 1);\")\n",
    "conn.commit()"
   ]
  },
  {
   "cell_type": "code",
   "execution_count": 26,
   "metadata": {},
   "outputs": [
    {
     "name": "stdout",
     "output_type": "stream",
     "text": [
      "1\n"
     ]
    }
   ],
   "source": [
    "sql = 'select count from movie_reviews where word like ? and pos like ?;'\n",
    "cur.execute(sql, ('윌', 'Noun'))\n",
    "count, = cur.fetchone()\n",
    "print(count)"
   ]
  },
  {
   "cell_type": "code",
   "execution_count": 28,
   "metadata": {},
   "outputs": [],
   "source": [
    "cur.execute(\"DELETE FROM Movie_reviews WHERE word like '윌';\")\n",
    "conn.commit()"
   ]
  },
  {
   "cell_type": "code",
   "execution_count": null,
   "metadata": {},
   "outputs": [],
   "source": [
    "def countMorph(word, pos):    \n",
    "    count = 0\n",
    "    try:\n",
    "        cur = conn.cursor()\n",
    "        sql = \"SELECT count FROM Movie_reviews WHERE word like ? and pos like ?\"\n",
    "        cur.execute(sql, (word, pos))\n",
    "        count, = cur.fetchone()\n",
    "    except TypeError as te:\n",
    "        count = 0\n",
    "    except Exception as e: \n",
    "        print('예외가 발생했습니다.', e)\n",
    "        count = -1\n",
    "    finally:\n",
    "        return count"
   ]
  },
  {
   "cell_type": "code",
   "execution_count": null,
   "metadata": {},
   "outputs": [],
   "source": [
    "# print(countMorph('윌', 'Noun'))\n",
    "# print(countMorph('원작', 'Noun'))\n",
    "# x = ('윌', 'Noun')\n",
    "# countMorph = (*x)\n",
    "\n"
   ]
  },
  {
   "cell_type": "code",
   "execution_count": null,
   "metadata": {},
   "outputs": [],
   "source": [
    "print(countMorph('윌', 'Noun'))\n",
    "print(countMorph('원작', 'Noun'))\n",
    "x = ('윌', 'Noun')\n",
    "countMorph(*x)"
   ]
  },
  {
   "cell_type": "code",
   "execution_count": null,
   "metadata": {},
   "outputs": [],
   "source": [
    "def insertMorph(word, pos, count):\n",
    "    cur = conn.cursor()\n",
    "    sql = \"INSERT INTO Movie_reviews VALUES(?, ?, ?);\"\n",
    "    cur.execute(sql, (word, pos, count))\n",
    "    conn.commit()"
   ]
  },
  {
   "cell_type": "code",
   "execution_count": null,
   "metadata": {},
   "outputs": [],
   "source": [
    "insertMorph(*x, 1)"
   ]
  },
  {
   "cell_type": "code",
   "execution_count": null,
   "metadata": {},
   "outputs": [],
   "source": [
    "def updateMorph(word, pos, count):\n",
    "    cur = conn.cursor()\n",
    "    sql = \"UPDATE Movie_reviews SET count=? WHERE word like ? and pos like ?;\"\n",
    "    cur.execute(sql, (count, word, pos))\n",
    "    conn.commit()"
   ]
  },
  {
   "cell_type": "code",
   "execution_count": null,
   "metadata": {},
   "outputs": [],
   "source": [
    "updateMorph(*x, 2)"
   ]
  },
  {
   "cell_type": "code",
   "execution_count": null,
   "metadata": {},
   "outputs": [],
   "source": [
    "i = 1\n",
    "for review in reviews:\n",
    "    if i % 1000 == 0:\n",
    "        print(i, end=' ')\n",
    "    i += 1\n",
    "    morphs = okt.pos(str(review))\n",
    "    for morph in morphs:\n",
    "        if morph[1] in [\"Josa\", \"Eomi\", \"Punctuation\"]:\n",
    "            continue\n",
    "        count = countMorph(*morph)     # Unpacking\n",
    "        if count == 0:                 # 신규 등록\n",
    "            insertMorph(*morph, 1)\n",
    "        elif count > 0:                # count update\n",
    "            updateMorph(*morph, count+1)\n",
    "        else:\n",
    "            print('DB Error!!!')"
   ]
  },
  {
   "cell_type": "code",
   "execution_count": null,
   "metadata": {},
   "outputs": [],
   "source": []
  }
 ],
 "metadata": {
  "kernelspec": {
   "display_name": "Python 3",
   "language": "python",
   "name": "python3"
  },
  "language_info": {
   "codemirror_mode": {
    "name": "ipython",
    "version": 3
   },
   "file_extension": ".py",
   "mimetype": "text/x-python",
   "name": "python",
   "nbconvert_exporter": "python",
   "pygments_lexer": "ipython3",
   "version": "3.7.3"
  }
 },
 "nbformat": 4,
 "nbformat_minor": 2
}
