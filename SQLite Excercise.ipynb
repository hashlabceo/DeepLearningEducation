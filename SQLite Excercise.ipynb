{
 "cells": [
  {
   "cell_type": "markdown",
   "metadata": {},
   "source": [
    "# SQLite Excercise"
   ]
  },
  {
   "cell_type": "markdown",
   "metadata": {},
   "source": [
    "### 1.  국내의 대표적인 걸그룹 또는 보이그룹 5개 이상에 대하여 다음과 같은 정보를 갖는 테이블을 만드시오. *는 Primary Key\n",
    "\n",
    "* id(*), group_name, 구성원 수, 데뷔일자, 소속사"
   ]
  },
  {
   "cell_type": "code",
   "execution_count": 108,
   "metadata": {},
   "outputs": [],
   "source": [
    "import sqlite3"
   ]
  },
  {
   "cell_type": "code",
   "execution_count": 109,
   "metadata": {},
   "outputs": [],
   "source": [
    "conn = sqlite3.connect('./ex.db')"
   ]
  },
  {
   "cell_type": "code",
   "execution_count": 110,
   "metadata": {},
   "outputs": [
    {
     "data": {
      "text/plain": [
       "<sqlite3.Cursor at 0x20d9c73f570>"
      ]
     },
     "execution_count": 110,
     "metadata": {},
     "output_type": "execute_result"
    }
   ],
   "source": [
    "cur = conn.cursor()\n",
    "cur.execute(\"CREATE TABLE IF NOT EXISTS SINGERS \\\n",
    "                (id INT PRIMARY KEY, \\\n",
    "                group_name TEXT, \\\n",
    "                member_no INT, \\\n",
    "                debut TEXT, \\\n",
    "                company TEXT);\")"
   ]
  },
  {
   "cell_type": "code",
   "execution_count": 111,
   "metadata": {},
   "outputs": [],
   "source": [
    "conn.commit()"
   ]
  },
  {
   "cell_type": "code",
   "execution_count": 112,
   "metadata": {},
   "outputs": [
    {
     "data": {
      "text/html": [
       "<div>\n",
       "<style scoped>\n",
       "    .dataframe tbody tr th:only-of-type {\n",
       "        vertical-align: middle;\n",
       "    }\n",
       "\n",
       "    .dataframe tbody tr th {\n",
       "        vertical-align: top;\n",
       "    }\n",
       "\n",
       "    .dataframe thead th {\n",
       "        text-align: right;\n",
       "    }\n",
       "</style>\n",
       "<table border=\"1\" class=\"dataframe\">\n",
       "  <thead>\n",
       "    <tr style=\"text-align: right;\">\n",
       "      <th></th>\n",
       "      <th>name</th>\n",
       "      <th>member_no</th>\n",
       "      <th>debut</th>\n",
       "      <th>company</th>\n",
       "    </tr>\n",
       "  </thead>\n",
       "  <tbody>\n",
       "    <tr>\n",
       "      <th>0</th>\n",
       "      <td>방탄소년단</td>\n",
       "      <td>7</td>\n",
       "      <td>2013-06-13</td>\n",
       "      <td>빅히트 엔터</td>\n",
       "    </tr>\n",
       "    <tr>\n",
       "      <th>1</th>\n",
       "      <td>마마무</td>\n",
       "      <td>4</td>\n",
       "      <td>2014-06-19</td>\n",
       "      <td>RBW</td>\n",
       "    </tr>\n",
       "    <tr>\n",
       "      <th>2</th>\n",
       "      <td>우주소녀</td>\n",
       "      <td>13</td>\n",
       "      <td>2016-02-25</td>\n",
       "      <td>스타쉽 엔터</td>\n",
       "    </tr>\n",
       "    <tr>\n",
       "      <th>3</th>\n",
       "      <td>블락비</td>\n",
       "      <td>7</td>\n",
       "      <td>2011-04-15</td>\n",
       "      <td>KQ 엔터</td>\n",
       "    </tr>\n",
       "    <tr>\n",
       "      <th>4</th>\n",
       "      <td>엑소</td>\n",
       "      <td>9</td>\n",
       "      <td>2012-04-08</td>\n",
       "      <td>SM 엔터</td>\n",
       "    </tr>\n",
       "    <tr>\n",
       "      <th>5</th>\n",
       "      <td>트와이스</td>\n",
       "      <td>9</td>\n",
       "      <td>2015-10-20</td>\n",
       "      <td>JYP 엔터</td>\n",
       "    </tr>\n",
       "  </tbody>\n",
       "</table>\n",
       "</div>"
      ],
      "text/plain": [
       "    name  member_no       debut company\n",
       "0  방탄소년단          7  2013-06-13  빅히트 엔터\n",
       "1    마마무          4  2014-06-19     RBW\n",
       "2   우주소녀         13  2016-02-25  스타쉽 엔터\n",
       "3    블락비          7  2011-04-15   KQ 엔터\n",
       "4     엑소          9  2012-04-08   SM 엔터\n",
       "5   트와이스          9  2015-10-20  JYP 엔터"
      ]
     },
     "execution_count": 112,
     "metadata": {},
     "output_type": "execute_result"
    }
   ],
   "source": [
    "import pandas as pd\n",
    "singers = pd.read_csv('data/singers.csv', encoding='EUC-KR')\n",
    "singers"
   ]
  },
  {
   "cell_type": "code",
   "execution_count": 113,
   "metadata": {},
   "outputs": [],
   "source": [
    "cur = conn.cursor()\n",
    "sql = \"INSERT INTO singers VALUES(?,?,?,?,?);\"\n",
    "\n",
    "for i in range(5):\n",
    "    cur.execute(sql, (int(i + 1), \n",
    "                        singers.iloc[i,0], # name\n",
    "                        int(singers.iloc[i,1]), # member_no\n",
    "                        singers.iloc[i,2], # debut\n",
    "                        singers.iloc[i,3]  # company\n",
    "               ))\n",
    "    \n",
    "conn.commit()"
   ]
  },
  {
   "cell_type": "markdown",
   "metadata": {},
   "source": [
    "### 2.  이들이 불렀던 노래 또는 다른 사람이 불렀던 노래 10곡 이상에 대하여 다음의 정보를 갖는 테이블을 만드시오.\n",
    "* song_id(*), song_name, 그룹 id, 발표년도, 작곡가, 도입부 가사"
   ]
  },
  {
   "cell_type": "code",
   "execution_count": 114,
   "metadata": {},
   "outputs": [],
   "source": [
    "cur = conn.cursor()\n",
    "cur.execute(\"CREATE TABLE IF NOT EXISTS SONGS \\\n",
    "                (song_id INT PRIMARY KEY, \\\n",
    "                song TEXT, \\\n",
    "                gid INT, \\\n",
    "                year INT, \\\n",
    "                composer TEXT, \\\n",
    "                lyrics TEXT);\" )\n",
    "\n",
    "conn.commit()"
   ]
  },
  {
   "cell_type": "code",
   "execution_count": 115,
   "metadata": {},
   "outputs": [
    {
     "data": {
      "text/html": [
       "<div>\n",
       "<style scoped>\n",
       "    .dataframe tbody tr th:only-of-type {\n",
       "        vertical-align: middle;\n",
       "    }\n",
       "\n",
       "    .dataframe tbody tr th {\n",
       "        vertical-align: top;\n",
       "    }\n",
       "\n",
       "    .dataframe thead th {\n",
       "        text-align: right;\n",
       "    }\n",
       "</style>\n",
       "<table border=\"1\" class=\"dataframe\">\n",
       "  <thead>\n",
       "    <tr style=\"text-align: right;\">\n",
       "      <th></th>\n",
       "      <th>song</th>\n",
       "      <th>gid</th>\n",
       "      <th>year</th>\n",
       "      <th>composer</th>\n",
       "      <th>lyrics</th>\n",
       "    </tr>\n",
       "  </thead>\n",
       "  <tbody>\n",
       "    <tr>\n",
       "      <th>0</th>\n",
       "      <td>작은 것들을 위한 시</td>\n",
       "      <td>1</td>\n",
       "      <td>2019</td>\n",
       "      <td>Pdogg 외</td>\n",
       "      <td>모든 게 궁금해 How’s your day</td>\n",
       "    </tr>\n",
       "    <tr>\n",
       "      <th>1</th>\n",
       "      <td>FAKE LOVE</td>\n",
       "      <td>1</td>\n",
       "      <td>2018</td>\n",
       "      <td>Pdogg 외</td>\n",
       "      <td>널 위해서라면 난 슬퍼도 기쁜 척 할 수가 있었어</td>\n",
       "    </tr>\n",
       "    <tr>\n",
       "      <th>2</th>\n",
       "      <td>넌 is 뭔들</td>\n",
       "      <td>2</td>\n",
       "      <td>2016</td>\n",
       "      <td>김도훈 외</td>\n",
       "      <td>Hey 거기 미소가 예쁜 남자 바로 너</td>\n",
       "    </tr>\n",
       "    <tr>\n",
       "      <th>3</th>\n",
       "      <td>음오아예 (Um Oh Ah Yeh)</td>\n",
       "      <td>2</td>\n",
       "      <td>2015</td>\n",
       "      <td>김도훈</td>\n",
       "      <td>oh yes 음 오 아 예 너에게 빠져들겠어 자꾸 반응하잖아</td>\n",
       "    </tr>\n",
       "    <tr>\n",
       "      <th>4</th>\n",
       "      <td>HER</td>\n",
       "      <td>4</td>\n",
       "      <td>2014</td>\n",
       "      <td>지코 외</td>\n",
       "      <td>Jesus 무슨 말이 필요해 모두 널 작품이라고 불러</td>\n",
       "    </tr>\n",
       "    <tr>\n",
       "      <th>5</th>\n",
       "      <td>으르렁</td>\n",
       "      <td>5</td>\n",
       "      <td>2013</td>\n",
       "      <td>신혁 외</td>\n",
       "      <td>나 으르렁 으르렁 으르렁 대 나 으르렁 으르렁 으르렁 대</td>\n",
       "    </tr>\n",
       "    <tr>\n",
       "      <th>6</th>\n",
       "      <td>MAMA</td>\n",
       "      <td>5</td>\n",
       "      <td>2012</td>\n",
       "      <td>유영진</td>\n",
       "      <td>Careless careless Shoot anonymous anonymous</td>\n",
       "    </tr>\n",
       "    <tr>\n",
       "      <th>7</th>\n",
       "      <td>CHEER UP</td>\n",
       "      <td>6</td>\n",
       "      <td>2016</td>\n",
       "      <td>블랙아이드필승 외</td>\n",
       "      <td>CHEER UP BABY CHEER UP BABY 좀 더 힘을 내</td>\n",
       "    </tr>\n",
       "    <tr>\n",
       "      <th>8</th>\n",
       "      <td>TT</td>\n",
       "      <td>6</td>\n",
       "      <td>2016</td>\n",
       "      <td>블랙아이드필승 외</td>\n",
       "      <td>이런 내 맘 모르고 너무해 너무해</td>\n",
       "    </tr>\n",
       "    <tr>\n",
       "      <th>9</th>\n",
       "      <td>빨간 맛</td>\n",
       "      <td>11</td>\n",
       "      <td>2017</td>\n",
       "      <td>Ludwig Lindell 외</td>\n",
       "      <td>빨간 맛 궁금해 Honey 깨물면 점점 녹아든 스트로베리 그 맛</td>\n",
       "    </tr>\n",
       "  </tbody>\n",
       "</table>\n",
       "</div>"
      ],
      "text/plain": [
       "                  song  gid  year          composer  \\\n",
       "0          작은 것들을 위한 시    1  2019           Pdogg 외   \n",
       "1            FAKE LOVE    1  2018           Pdogg 외   \n",
       "2              넌 is 뭔들    2  2016             김도훈 외   \n",
       "3  음오아예 (Um Oh Ah Yeh)    2  2015               김도훈   \n",
       "4                  HER    4  2014              지코 외   \n",
       "5                  으르렁    5  2013              신혁 외   \n",
       "6                 MAMA    5  2012               유영진   \n",
       "7             CHEER UP    6  2016         블랙아이드필승 외   \n",
       "8                   TT    6  2016         블랙아이드필승 외   \n",
       "9                 빨간 맛   11  2017  Ludwig Lindell 외   \n",
       "\n",
       "                                        lyrics  \n",
       "0                      모든 게 궁금해 How’s your day  \n",
       "1                  널 위해서라면 난 슬퍼도 기쁜 척 할 수가 있었어  \n",
       "2                        Hey 거기 미소가 예쁜 남자 바로 너  \n",
       "3            oh yes 음 오 아 예 너에게 빠져들겠어 자꾸 반응하잖아  \n",
       "4                Jesus 무슨 말이 필요해 모두 널 작품이라고 불러  \n",
       "5              나 으르렁 으르렁 으르렁 대 나 으르렁 으르렁 으르렁 대  \n",
       "6  Careless careless Shoot anonymous anonymous  \n",
       "7         CHEER UP BABY CHEER UP BABY 좀 더 힘을 내  \n",
       "8                           이런 내 맘 모르고 너무해 너무해  \n",
       "9          빨간 맛 궁금해 Honey 깨물면 점점 녹아든 스트로베리 그 맛  "
      ]
     },
     "execution_count": 115,
     "metadata": {},
     "output_type": "execute_result"
    }
   ],
   "source": [
    "songs = pd.read_csv('data/songs.csv', encoding='EUC-KR')\n",
    "songs"
   ]
  },
  {
   "cell_type": "code",
   "execution_count": 116,
   "metadata": {},
   "outputs": [],
   "source": [
    "cur = conn.cursor()\n",
    "song_sql = 'INSERT INTO songs VALUES(?,?,?,?,?,?);'\n",
    "for i in range(10):\n",
    "    cur.execute(song_sql, (int(i + 1), \n",
    "                        songs.iloc[i,0], # song\n",
    "                        int(songs.iloc[i,1]), # gid\n",
    "                        int(songs.iloc[i,2]), # year\n",
    "                        songs.iloc[i,3], # composer\n",
    "                        songs.iloc[i,4]  # lyrics \n",
    "                     ))\n",
    "    \n",
    "conn.commit()"
   ]
  },
  {
   "cell_type": "code",
   "execution_count": 117,
   "metadata": {},
   "outputs": [
    {
     "name": "stdout",
     "output_type": "stream",
     "text": [
      "gid:  11\n",
      "year: 2017\n"
     ]
    }
   ],
   "source": [
    "print('gid: ',songs.iloc[i,1])\n",
    "print('year:', songs.iloc[i,2])"
   ]
  },
  {
   "cell_type": "markdown",
   "metadata": {},
   "source": [
    "### 3. 위 두개의 테이블을 조인한 결과를 가지고 다음의 필드를 갖는 데이터 프레임을 만드시오.\n",
    "* 그룹 이름, 구성원 수, 데뷔 일자, 노래 이름, 발표 년도"
   ]
  },
  {
   "cell_type": "code",
   "execution_count": 118,
   "metadata": {},
   "outputs": [
    {
     "data": {
      "text/html": [
       "<div>\n",
       "<style scoped>\n",
       "    .dataframe tbody tr th:only-of-type {\n",
       "        vertical-align: middle;\n",
       "    }\n",
       "\n",
       "    .dataframe tbody tr th {\n",
       "        vertical-align: top;\n",
       "    }\n",
       "\n",
       "    .dataframe thead th {\n",
       "        text-align: right;\n",
       "    }\n",
       "</style>\n",
       "<table border=\"1\" class=\"dataframe\">\n",
       "  <thead>\n",
       "    <tr style=\"text-align: right;\">\n",
       "      <th></th>\n",
       "      <th>그룹 이름</th>\n",
       "      <th>구성원 수</th>\n",
       "      <th>데뷔 일자</th>\n",
       "      <th>노래 이름</th>\n",
       "      <th>발표 년도</th>\n",
       "    </tr>\n",
       "  </thead>\n",
       "  <tbody>\n",
       "    <tr>\n",
       "      <th>0</th>\n",
       "      <td>방탄소년단</td>\n",
       "      <td>7</td>\n",
       "      <td>2013-06-13</td>\n",
       "      <td>작은 것들을 위한 시</td>\n",
       "      <td>2019</td>\n",
       "    </tr>\n",
       "    <tr>\n",
       "      <th>1</th>\n",
       "      <td>방탄소년단</td>\n",
       "      <td>7</td>\n",
       "      <td>2013-06-13</td>\n",
       "      <td>FAKE LOVE</td>\n",
       "      <td>2018</td>\n",
       "    </tr>\n",
       "    <tr>\n",
       "      <th>2</th>\n",
       "      <td>마마무</td>\n",
       "      <td>4</td>\n",
       "      <td>2014-06-19</td>\n",
       "      <td>넌 is 뭔들</td>\n",
       "      <td>2016</td>\n",
       "    </tr>\n",
       "    <tr>\n",
       "      <th>3</th>\n",
       "      <td>마마무</td>\n",
       "      <td>4</td>\n",
       "      <td>2014-06-19</td>\n",
       "      <td>음오아예 (Um Oh Ah Yeh)</td>\n",
       "      <td>2015</td>\n",
       "    </tr>\n",
       "    <tr>\n",
       "      <th>4</th>\n",
       "      <td>블락비</td>\n",
       "      <td>7</td>\n",
       "      <td>2011-04-15</td>\n",
       "      <td>HER</td>\n",
       "      <td>2014</td>\n",
       "    </tr>\n",
       "    <tr>\n",
       "      <th>5</th>\n",
       "      <td>엑소</td>\n",
       "      <td>9</td>\n",
       "      <td>2012-04-08</td>\n",
       "      <td>으르렁</td>\n",
       "      <td>2013</td>\n",
       "    </tr>\n",
       "    <tr>\n",
       "      <th>6</th>\n",
       "      <td>엑소</td>\n",
       "      <td>9</td>\n",
       "      <td>2012-04-08</td>\n",
       "      <td>MAMA</td>\n",
       "      <td>2012</td>\n",
       "    </tr>\n",
       "  </tbody>\n",
       "</table>\n",
       "</div>"
      ],
      "text/plain": [
       "   그룹 이름 구성원 수       데뷔 일자                노래 이름 발표 년도\n",
       "0  방탄소년단     7  2013-06-13          작은 것들을 위한 시  2019\n",
       "1  방탄소년단     7  2013-06-13            FAKE LOVE  2018\n",
       "2    마마무     4  2014-06-19              넌 is 뭔들  2016\n",
       "3    마마무     4  2014-06-19  음오아예 (Um Oh Ah Yeh)  2015\n",
       "4    블락비     7  2011-04-15                  HER  2014\n",
       "5     엑소     9  2012-04-08                  으르렁  2013\n",
       "6     엑소     9  2012-04-08                 MAMA  2012"
      ]
     },
     "execution_count": 118,
     "metadata": {},
     "output_type": "execute_result"
    }
   ],
   "source": [
    "cur = conn.cursor()\n",
    "join_sql = \"SELECT si.group_name, si.member_no, si.debut, so.song, so.year \\\n",
    "                FROM singers AS si INNER JOIN songs AS so\\\n",
    "                ON si.id = so.gid;\"\n",
    "cur.execute(join_sql)\n",
    "rows = cur.fetchall()\n",
    "columnName = ['그룹 이름', '구성원 수', '데뷔 일자', '노래 이름', '발표 년도']\n",
    "song_df = pd.DataFrame(columns=columnName)\n",
    "\n",
    "for row in rows:\n",
    "    song_df = song_df.append(pd.DataFrame([list(row)], columns=columnName), ignore_index=True)\n",
    "    \n",
    "song_df"
   ]
  },
  {
   "cell_type": "code",
   "execution_count": 121,
   "metadata": {},
   "outputs": [
    {
     "data": {
      "text/html": [
       "<div>\n",
       "<style scoped>\n",
       "    .dataframe tbody tr th:only-of-type {\n",
       "        vertical-align: middle;\n",
       "    }\n",
       "\n",
       "    .dataframe tbody tr th {\n",
       "        vertical-align: top;\n",
       "    }\n",
       "\n",
       "    .dataframe thead th {\n",
       "        text-align: right;\n",
       "    }\n",
       "</style>\n",
       "<table border=\"1\" class=\"dataframe\">\n",
       "  <thead>\n",
       "    <tr style=\"text-align: right;\">\n",
       "      <th></th>\n",
       "      <th>그룹 이름</th>\n",
       "      <th>구성원 수</th>\n",
       "      <th>데뷔 일자</th>\n",
       "      <th>노래 이름</th>\n",
       "      <th>발표 년도</th>\n",
       "    </tr>\n",
       "  </thead>\n",
       "  <tbody>\n",
       "    <tr>\n",
       "      <th>0</th>\n",
       "      <td>방탄소년단</td>\n",
       "      <td>7</td>\n",
       "      <td>2013-06-13</td>\n",
       "      <td>FAKE LOVE</td>\n",
       "      <td>2018</td>\n",
       "    </tr>\n",
       "    <tr>\n",
       "      <th>1</th>\n",
       "      <td>방탄소년단</td>\n",
       "      <td>7</td>\n",
       "      <td>2013-06-13</td>\n",
       "      <td>작은 것들을 위한 시</td>\n",
       "      <td>2019</td>\n",
       "    </tr>\n",
       "    <tr>\n",
       "      <th>2</th>\n",
       "      <td>마마무</td>\n",
       "      <td>4</td>\n",
       "      <td>2014-06-19</td>\n",
       "      <td>넌 is 뭔들</td>\n",
       "      <td>2016</td>\n",
       "    </tr>\n",
       "    <tr>\n",
       "      <th>3</th>\n",
       "      <td>마마무</td>\n",
       "      <td>4</td>\n",
       "      <td>2014-06-19</td>\n",
       "      <td>음오아예 (Um Oh Ah Yeh)</td>\n",
       "      <td>2015</td>\n",
       "    </tr>\n",
       "    <tr>\n",
       "      <th>4</th>\n",
       "      <td>우주소녀</td>\n",
       "      <td>13</td>\n",
       "      <td>2016-02-25</td>\n",
       "      <td>None</td>\n",
       "      <td>None</td>\n",
       "    </tr>\n",
       "    <tr>\n",
       "      <th>5</th>\n",
       "      <td>블락비</td>\n",
       "      <td>7</td>\n",
       "      <td>2011-04-15</td>\n",
       "      <td>HER</td>\n",
       "      <td>2014</td>\n",
       "    </tr>\n",
       "    <tr>\n",
       "      <th>6</th>\n",
       "      <td>엑소</td>\n",
       "      <td>9</td>\n",
       "      <td>2012-04-08</td>\n",
       "      <td>MAMA</td>\n",
       "      <td>2012</td>\n",
       "    </tr>\n",
       "    <tr>\n",
       "      <th>7</th>\n",
       "      <td>엑소</td>\n",
       "      <td>9</td>\n",
       "      <td>2012-04-08</td>\n",
       "      <td>으르렁</td>\n",
       "      <td>2013</td>\n",
       "    </tr>\n",
       "  </tbody>\n",
       "</table>\n",
       "</div>"
      ],
      "text/plain": [
       "   그룹 이름 구성원 수       데뷔 일자                노래 이름 발표 년도\n",
       "0  방탄소년단     7  2013-06-13            FAKE LOVE  2018\n",
       "1  방탄소년단     7  2013-06-13          작은 것들을 위한 시  2019\n",
       "2    마마무     4  2014-06-19              넌 is 뭔들  2016\n",
       "3    마마무     4  2014-06-19  음오아예 (Um Oh Ah Yeh)  2015\n",
       "4   우주소녀    13  2016-02-25                 None  None\n",
       "5    블락비     7  2011-04-15                  HER  2014\n",
       "6     엑소     9  2012-04-08                 MAMA  2012\n",
       "7     엑소     9  2012-04-08                  으르렁  2013"
      ]
     },
     "execution_count": 121,
     "metadata": {},
     "output_type": "execute_result"
    }
   ],
   "source": [
    "cur = conn.cursor()\n",
    "join_sql = \"SELECT si.group_name, si.member_no, si.debut, so.song, so.year \\\n",
    "                FROM singers AS si LEFT OUTER JOIN songs AS so\\\n",
    "                ON si.id = so.gid;\"\n",
    "cur.execute(join_sql)\n",
    "rows = cur.fetchall()\n",
    "columnName = ['그룹 이름', '구성원 수', '데뷔 일자', '노래 이름', '발표 년도']\n",
    "song_df = pd.DataFrame(columns=columnName)\n",
    "\n",
    "for row in rows:\n",
    "    song_df = song_df.append(pd.DataFrame([list(row)], columns=columnName), ignore_index=True)\n",
    "    \n",
    "song_df"
   ]
  },
  {
   "cell_type": "code",
   "execution_count": 107,
   "metadata": {},
   "outputs": [],
   "source": [
    "conn.close()"
   ]
  },
  {
   "cell_type": "markdown",
   "metadata": {},
   "source": [
    "### 연습문제 3\n",
    "* 사용자의 이름과, 비밀번호를 갖는 Users 테이블이 있다. 사용자의 이름과 비밀번호를 올바르게 입력하면 ‘성공’을 출력하고, 잘못 입력하면 ‘실패’를 출력하는 프로그램을 작성하시오."
   ]
  },
  {
   "cell_type": "code",
   "execution_count": 122,
   "metadata": {},
   "outputs": [],
   "source": [
    "conn = sqlite3.connect('./test.db') \n",
    "cur = conn.cursor()"
   ]
  },
  {
   "cell_type": "code",
   "execution_count": 123,
   "metadata": {},
   "outputs": [
    {
     "data": {
      "text/plain": [
       "<sqlite3.Cursor at 0x20da80603b0>"
      ]
     },
     "execution_count": 123,
     "metadata": {},
     "output_type": "execute_result"
    }
   ],
   "source": [
    "cur.execute('CREATE TABLE IF NOT EXISTS Users \\\n",
    "    (uid TEXT PRIMARY KEY, \\\n",
    "     name TEXT NOT NULL, \\\n",
    "     password TEXT);')"
   ]
  },
  {
   "cell_type": "code",
   "execution_count": 124,
   "metadata": {},
   "outputs": [
    {
     "data": {
      "text/html": [
       "<div>\n",
       "<style scoped>\n",
       "    .dataframe tbody tr th:only-of-type {\n",
       "        vertical-align: middle;\n",
       "    }\n",
       "\n",
       "    .dataframe tbody tr th {\n",
       "        vertical-align: top;\n",
       "    }\n",
       "\n",
       "    .dataframe thead th {\n",
       "        text-align: right;\n",
       "    }\n",
       "</style>\n",
       "<table border=\"1\" class=\"dataframe\">\n",
       "  <thead>\n",
       "    <tr style=\"text-align: right;\">\n",
       "      <th></th>\n",
       "      <th>uid</th>\n",
       "      <th>name</th>\n",
       "      <th>password</th>\n",
       "    </tr>\n",
       "  </thead>\n",
       "  <tbody>\n",
       "    <tr>\n",
       "      <th>0</th>\n",
       "      <td>jhchoi</td>\n",
       "      <td>최진행</td>\n",
       "      <td>1234</td>\n",
       "    </tr>\n",
       "    <tr>\n",
       "      <th>1</th>\n",
       "      <td>tkkim</td>\n",
       "      <td>김태균</td>\n",
       "      <td>1234</td>\n",
       "    </tr>\n",
       "    <tr>\n",
       "      <th>2</th>\n",
       "      <td>kmsong</td>\n",
       "      <td>송광민</td>\n",
       "      <td>1234</td>\n",
       "    </tr>\n",
       "    <tr>\n",
       "      <th>3</th>\n",
       "      <td>sylee</td>\n",
       "      <td>이성열</td>\n",
       "      <td>1234</td>\n",
       "    </tr>\n",
       "    <tr>\n",
       "      <th>4</th>\n",
       "      <td>ewchung</td>\n",
       "      <td>정은원</td>\n",
       "      <td>1234</td>\n",
       "    </tr>\n",
       "  </tbody>\n",
       "</table>\n",
       "</div>"
      ],
      "text/plain": [
       "       uid name password\n",
       "0   jhchoi  최진행     1234\n",
       "1    tkkim  김태균     1234\n",
       "2   kmsong  송광민     1234\n",
       "3    sylee  이성열     1234\n",
       "4  ewchung  정은원     1234"
      ]
     },
     "execution_count": 124,
     "metadata": {},
     "output_type": "execute_result"
    }
   ],
   "source": [
    "\n",
    "users = pd.DataFrame({\n",
    "    'uid': ['jhchoi','tkkim','kmsong','sylee','ewchung'],\n",
    "    'name': ['최진행','김태균','송광민','이성열','정은원'],\n",
    "    'password': ['1234','1234','1234','1234','1234']\n",
    "})\n",
    "users"
   ]
  },
  {
   "cell_type": "code",
   "execution_count": 125,
   "metadata": {},
   "outputs": [],
   "source": [
    "cur = conn.cursor()\n",
    "sql = 'INSERT INTO Users VALUES (?, ?, ?);'\n",
    "for i in range(5):\n",
    "    cur.execute(sql, (users.iloc[i,0],\n",
    "                      users.iloc[i,1],\n",
    "                      users.iloc[i,2]))\n",
    "conn.commit()"
   ]
  },
  {
   "cell_type": "code",
   "execution_count": 126,
   "metadata": {},
   "outputs": [
    {
     "name": "stdout",
     "output_type": "stream",
     "text": [
      "('jhchoi', '최진행', '1234')\n",
      "('tkkim', '김태균', '1234')\n",
      "('kmsong', '송광민', '1234')\n",
      "('sylee', '이성열', '1234')\n",
      "('ewchung', '정은원', '1234')\n"
     ]
    }
   ],
   "source": [
    "cur = conn.cursor()\n",
    "cur.execute(\"SELECT * FROM Users;\")\n",
    "rows = cur.fetchall()\n",
    "for row in rows:\n",
    "    print(row)"
   ]
  },
  {
   "cell_type": "code",
   "execution_count": 127,
   "metadata": {},
   "outputs": [],
   "source": [
    "conn.close()"
   ]
  },
  {
   "cell_type": "code",
   "execution_count": null,
   "metadata": {},
   "outputs": [],
   "source": []
  },
  {
   "cell_type": "code",
   "execution_count": 128,
   "metadata": {},
   "outputs": [],
   "source": [
    "def checkUser(uid, password):\n",
    "    print(uid, password)\n",
    "    conn = sqlite3.connect('./test.db')\n",
    "    cur = conn.cursor()\n",
    "    sql = \"SELECT name, password FROM Users WHERE uid like ?;\"\n",
    "    cur.execute(sql, (uid,))\n",
    "    dbname, dbpassword = cur.fetchone()\n",
    "    print(dbname, dbpassword)\n",
    "\n",
    "    conn.close()"
   ]
  },
  {
   "cell_type": "code",
   "execution_count": 129,
   "metadata": {},
   "outputs": [
    {
     "name": "stdout",
     "output_type": "stream",
     "text": [
      "uid password 입력> tkkim 1234\n",
      "tkkim 1234\n",
      "김태균 1234\n"
     ]
    }
   ],
   "source": [
    "# 올바르게 입력한 경우\n",
    "uid, password = input(\"uid password 입력> \").split()\n",
    "checkUser(uid, password)"
   ]
  },
  {
   "cell_type": "code",
   "execution_count": 130,
   "metadata": {},
   "outputs": [
    {
     "name": "stdout",
     "output_type": "stream",
     "text": [
      "uid password 입력> tkkim 1\n",
      "tkkim 1\n",
      "김태균 1234\n"
     ]
    }
   ],
   "source": [
    "# UID를 잘못 입력한 경우\n",
    "uid, password = input(\"uid password 입력> \").split()\n",
    "checkUser(uid, password)"
   ]
  },
  {
   "cell_type": "code",
   "execution_count": 132,
   "metadata": {},
   "outputs": [
    {
     "name": "stdout",
     "output_type": "stream",
     "text": [
      "uid password 입력> tkkkim 1\n",
      "tkkkim 1\n"
     ]
    },
    {
     "ename": "TypeError",
     "evalue": "cannot unpack non-iterable NoneType object",
     "output_type": "error",
     "traceback": [
      "\u001b[1;31m---------------------------------------------------------------------------\u001b[0m",
      "\u001b[1;31mTypeError\u001b[0m                                 Traceback (most recent call last)",
      "\u001b[1;32m<ipython-input-132-8588894adf7a>\u001b[0m in \u001b[0;36m<module>\u001b[1;34m\u001b[0m\n\u001b[0;32m      1\u001b[0m \u001b[1;31m# UID를 잘못 입력한 경우\u001b[0m\u001b[1;33m\u001b[0m\u001b[1;33m\u001b[0m\u001b[1;33m\u001b[0m\u001b[0m\n\u001b[0;32m      2\u001b[0m \u001b[0muid\u001b[0m\u001b[1;33m,\u001b[0m \u001b[0mpassword\u001b[0m \u001b[1;33m=\u001b[0m \u001b[0minput\u001b[0m\u001b[1;33m(\u001b[0m\u001b[1;34m\"uid password 입력> \"\u001b[0m\u001b[1;33m)\u001b[0m\u001b[1;33m.\u001b[0m\u001b[0msplit\u001b[0m\u001b[1;33m(\u001b[0m\u001b[1;33m)\u001b[0m\u001b[1;33m\u001b[0m\u001b[1;33m\u001b[0m\u001b[0m\n\u001b[1;32m----> 3\u001b[1;33m \u001b[0mcheckUser\u001b[0m\u001b[1;33m(\u001b[0m\u001b[0muid\u001b[0m\u001b[1;33m,\u001b[0m \u001b[0mpassword\u001b[0m\u001b[1;33m)\u001b[0m\u001b[1;33m\u001b[0m\u001b[1;33m\u001b[0m\u001b[0m\n\u001b[0m",
      "\u001b[1;32m<ipython-input-128-9a31ae25a8eb>\u001b[0m in \u001b[0;36mcheckUser\u001b[1;34m(uid, password)\u001b[0m\n\u001b[0;32m      5\u001b[0m     \u001b[0msql\u001b[0m \u001b[1;33m=\u001b[0m \u001b[1;34m\"SELECT name, password FROM Users WHERE uid like ?;\"\u001b[0m\u001b[1;33m\u001b[0m\u001b[1;33m\u001b[0m\u001b[0m\n\u001b[0;32m      6\u001b[0m     \u001b[0mcur\u001b[0m\u001b[1;33m.\u001b[0m\u001b[0mexecute\u001b[0m\u001b[1;33m(\u001b[0m\u001b[0msql\u001b[0m\u001b[1;33m,\u001b[0m \u001b[1;33m(\u001b[0m\u001b[0muid\u001b[0m\u001b[1;33m,\u001b[0m\u001b[1;33m)\u001b[0m\u001b[1;33m)\u001b[0m\u001b[1;33m\u001b[0m\u001b[1;33m\u001b[0m\u001b[0m\n\u001b[1;32m----> 7\u001b[1;33m     \u001b[0mdbname\u001b[0m\u001b[1;33m,\u001b[0m \u001b[0mdbpassword\u001b[0m \u001b[1;33m=\u001b[0m \u001b[0mcur\u001b[0m\u001b[1;33m.\u001b[0m\u001b[0mfetchone\u001b[0m\u001b[1;33m(\u001b[0m\u001b[1;33m)\u001b[0m\u001b[1;33m\u001b[0m\u001b[1;33m\u001b[0m\u001b[0m\n\u001b[0m\u001b[0;32m      8\u001b[0m     \u001b[0mprint\u001b[0m\u001b[1;33m(\u001b[0m\u001b[0mdbname\u001b[0m\u001b[1;33m,\u001b[0m \u001b[0mdbpassword\u001b[0m\u001b[1;33m)\u001b[0m\u001b[1;33m\u001b[0m\u001b[1;33m\u001b[0m\u001b[0m\n\u001b[0;32m      9\u001b[0m \u001b[1;33m\u001b[0m\u001b[0m\n",
      "\u001b[1;31mTypeError\u001b[0m: cannot unpack non-iterable NoneType object"
     ]
    }
   ],
   "source": [
    "# UID를 잘못 입력한 경우\n",
    "uid, password = input(\"uid password 입력> \").split()\n",
    "checkUser(uid, password)"
   ]
  },
  {
   "cell_type": "code",
   "execution_count": 133,
   "metadata": {},
   "outputs": [],
   "source": [
    "CHECK_SUCCESS = 0\n",
    "INVALID_UID = 1\n",
    "INCORRECT_PASSWORD = 2\n",
    "DATABASE_ERROR = 3\n",
    "\n",
    "def checkUser(uid, password):\n",
    "    conn = sqlite3.connect('./test.db')\n",
    "    name = ''\n",
    "    try:\n",
    "        cur = conn.cursor()\n",
    "        sql = \"SELECT name, password FROM Users WHERE uid like ?;\"\n",
    "        cur.execute(sql, (uid,))\n",
    "        dbName, dbPassword = cur.fetchone()\n",
    "        if password == dbPassword:\n",
    "            returnCode = CHECK_SUCCESS\n",
    "            name = dbName\n",
    "        else:\n",
    "            returnCode = INCORRECT_PASSWORD\n",
    "    except TypeError as te:\n",
    "        returnCode = INVALID_UID\n",
    "    except Exception as e: \n",
    "        print('예외가 발생했습니다.', e)\n",
    "        returnCode = DATABASE_ERROR\n",
    "    finally:\n",
    "        conn.close()\n",
    "        return returnCode, name"
   ]
  },
  {
   "cell_type": "code",
   "execution_count": 143,
   "metadata": {},
   "outputs": [
    {
     "name": "stdout",
     "output_type": "stream",
     "text": [
      "uid password 입력> asfsaf/safas\n"
     ]
    },
    {
     "ename": "ValueError",
     "evalue": "not enough values to unpack (expected 2, got 1)",
     "output_type": "error",
     "traceback": [
      "\u001b[1;31m---------------------------------------------------------------------------\u001b[0m",
      "\u001b[1;31mValueError\u001b[0m                                Traceback (most recent call last)",
      "\u001b[1;32m<ipython-input-143-229ae56509d2>\u001b[0m in \u001b[0;36m<module>\u001b[1;34m\u001b[0m\n\u001b[1;32m----> 1\u001b[1;33m \u001b[0muid\u001b[0m\u001b[1;33m,\u001b[0m \u001b[0mpassword\u001b[0m \u001b[1;33m=\u001b[0m \u001b[0minput\u001b[0m\u001b[1;33m(\u001b[0m\u001b[1;34m\"uid password 입력> \"\u001b[0m\u001b[1;33m)\u001b[0m\u001b[1;33m.\u001b[0m\u001b[0msplit\u001b[0m\u001b[1;33m(\u001b[0m\u001b[1;33m)\u001b[0m\u001b[1;33m\u001b[0m\u001b[1;33m\u001b[0m\u001b[0m\n\u001b[0m\u001b[0;32m      2\u001b[0m \u001b[1;32mtry\u001b[0m \u001b[1;33m:\u001b[0m\u001b[1;33m\u001b[0m\u001b[1;33m\u001b[0m\u001b[0m\n\u001b[0;32m      3\u001b[0m     \u001b[0mresult\u001b[0m\u001b[1;33m,\u001b[0m \u001b[0mname\u001b[0m \u001b[1;33m=\u001b[0m \u001b[0mcheckUser\u001b[0m\u001b[1;33m(\u001b[0m\u001b[0muid\u001b[0m\u001b[1;33m,\u001b[0m \u001b[0mpassword\u001b[0m\u001b[1;33m)\u001b[0m\u001b[1;33m\u001b[0m\u001b[1;33m\u001b[0m\u001b[0m\n\u001b[0;32m      4\u001b[0m     \u001b[1;32mif\u001b[0m \u001b[0mresult\u001b[0m \u001b[1;33m==\u001b[0m \u001b[0mCHECK_SUCCESS\u001b[0m\u001b[1;33m:\u001b[0m\u001b[1;33m\u001b[0m\u001b[1;33m\u001b[0m\u001b[0m\n\u001b[0;32m      5\u001b[0m         \u001b[0mprint\u001b[0m\u001b[1;33m(\u001b[0m\u001b[1;34m'로그인 성공, 사용자 이름 ='\u001b[0m\u001b[1;33m,\u001b[0m \u001b[0mname\u001b[0m\u001b[1;33m)\u001b[0m\u001b[1;33m\u001b[0m\u001b[1;33m\u001b[0m\u001b[0m\n",
      "\u001b[1;31mValueError\u001b[0m: not enough values to unpack (expected 2, got 1)"
     ]
    }
   ],
   "source": [
    "uid, password = input(\"uid password 입력> \").split()\n",
    "try : \n",
    "    result, name = checkUser(uid, password)\n",
    "    if result == CHECK_SUCCESS:\n",
    "        print('로그인 성공, 사용자 이름 =', name)\n",
    "    elif result == INVALID_UID:\n",
    "        print('실패 - 잘못된 User ID')\n",
    "    elif result == INCORRECT_PASSWORD:\n",
    "        print('실패 - 패스워드 불일치')\n",
    "    else:\n",
    "        print('실패 - 데이터베이스 에러')\n",
    "except:\n",
    "    print('실패 - 입력값 에러')"
   ]
  },
  {
   "cell_type": "markdown",
   "metadata": {},
   "source": [
    "### 패스워드 암호화 적용\n",
    "* pip install bcrypt"
   ]
  },
  {
   "cell_type": "code",
   "execution_count": 145,
   "metadata": {},
   "outputs": [],
   "source": [
    "import bcrypt"
   ]
  },
  {
   "cell_type": "code",
   "execution_count": null,
   "metadata": {},
   "outputs": [],
   "source": []
  }
 ],
 "metadata": {
  "kernelspec": {
   "display_name": "Python 3",
   "language": "python",
   "name": "python3"
  },
  "language_info": {
   "codemirror_mode": {
    "name": "ipython",
    "version": 3
   },
   "file_extension": ".py",
   "mimetype": "text/x-python",
   "name": "python",
   "nbconvert_exporter": "python",
   "pygments_lexer": "ipython3",
   "version": "3.7.3"
  }
 },
 "nbformat": 4,
 "nbformat_minor": 2
}
